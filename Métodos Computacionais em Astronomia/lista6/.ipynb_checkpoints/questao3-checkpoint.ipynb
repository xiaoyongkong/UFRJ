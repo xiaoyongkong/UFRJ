{
 "cells": [
  {
   "cell_type": "code",
   "execution_count": 1,
   "metadata": {},
   "outputs": [],
   "source": [
    "import numpy as np\n",
    "from sklearn.linear_model import LinearRegression\n",
    "from numpy import polyfit"
   ]
  },
  {
   "cell_type": "code",
   "execution_count": 5,
   "metadata": {
    "scrolled": false
   },
   "outputs": [
    {
     "name": "stdout",
     "output_type": "stream",
     "text": [
      "[ 155.83456542  321.98274984  472.30729765  527.69002579  567.24911732\n",
      "  630.54366376 1461.28458587 1477.10822248 1500.8436774  1540.40276893\n",
      " 1643.2564069  1975.55277575 2165.43641508 2315.76096289 2719.26369649\n",
      " 2956.61824566 3099.03097517 3114.85461178 3217.70824975 3795.27098608]\n",
      "\n",
      " [-6.36356985e-06  5.00194337e-02]\n",
      "\n",
      " [0.00010533 0.04979653]\n"
     ]
    }
   ],
   "source": [
    "'''\n",
    "\n",
    "Encontre a constante de Hubble considerando os dados da lista 1 utilizando agora a função de ajuste linear do \n",
    "scikit_learn. Encontre o ajuste polinomial dos dados contidos nos arquivos amostra1 e amostra2 utilizando as \n",
    "bibliotecas numpy e scipy, desta vez considerando os erros dos arquivos erros1.dat e erros2.dat para a \n",
    "coordenada y. Para os casos gerais de ajuste de funções, ao longo das listas anteriores já abordamos o método \n",
    "minimização do χ2, que é amplamente usado na astronomia. Os ajustes de funções podem e são utilizados para \n",
    "interpolar valores, nós já verificamos isso em outras listas quando calculamos valores, antes não disponíveis \n",
    "entre os dados observados, para a criação de plots.\n",
    "\n",
    "'''\n",
    "\n",
    "df = np.genfromtxt('diagrama_de_Hubble.csv',delimiter=\",\",skip_header=1)[:,1:3]\n",
    "x = (np.array(df[:,0])).reshape(-1,1)\n",
    "y = df[:,1]\n",
    "linreg = LinearRegression()\n",
    "linreg.fit(x, y)\n",
    "print(linreg.predict(x))\n",
    "\n",
    "\n",
    "x = np.loadtxt(\"./amostra1.dat\")\n",
    "y = np.loadtxt(\"./erros1.dat\")\n",
    "u = polyfit(x, y, deg=1)\n",
    "print(\"\\n\", u)\n",
    "\n",
    "\n",
    "y = np.loadtxt(\"./erros2.dat\")\n",
    "u = polyfit(x, y, deg=1)\n",
    "print(\"\\n\", u)\n"
   ]
  },
  {
   "cell_type": "code",
   "execution_count": null,
   "metadata": {},
   "outputs": [],
   "source": []
  },
  {
   "cell_type": "code",
   "execution_count": null,
   "metadata": {},
   "outputs": [],
   "source": []
  },
  {
   "cell_type": "code",
   "execution_count": null,
   "metadata": {},
   "outputs": [],
   "source": []
  }
 ],
 "metadata": {
  "kernelspec": {
   "display_name": "Python 3",
   "language": "python",
   "name": "python3"
  },
  "language_info": {
   "codemirror_mode": {
    "name": "ipython",
    "version": 3
   },
   "file_extension": ".py",
   "mimetype": "text/x-python",
   "name": "python",
   "nbconvert_exporter": "python",
   "pygments_lexer": "ipython3",
   "version": "3.8.6"
  }
 },
 "nbformat": 4,
 "nbformat_minor": 4
}
