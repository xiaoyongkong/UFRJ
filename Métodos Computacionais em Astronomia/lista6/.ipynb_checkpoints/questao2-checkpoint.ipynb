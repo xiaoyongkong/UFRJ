{
 "cells": [
  {
   "cell_type": "code",
   "execution_count": 20,
   "metadata": {},
   "outputs": [],
   "source": [
    "import numpy as np\n",
    "import scipy.integrate as integrate\n",
    "import scipy.special as special\n",
    "import sympy as sym\n",
    "from scipy.misc import derivative"
   ]
  },
  {
   "cell_type": "code",
   "execution_count": 8,
   "metadata": {},
   "outputs": [],
   "source": [
    "arquivo_1 = np.loadtxt(\"./amostra1.dat\")\n",
    "y = np.linspace(-2, 4, arquivo_1.size)"
   ]
  },
  {
   "cell_type": "code",
   "execution_count": 45,
   "metadata": {},
   "outputs": [
    {
     "name": "stdout",
     "output_type": "stream",
     "text": [
      "Usando numpy :  60006.0\n",
      "Calculando a integral :  x*atan(x**2) - sqrt(2)*log(4*x**2 - 4*sqrt(2)*x + 4)/4 + sqrt(2)*log(4*x**2 + 4*sqrt(2)*x + 4)/4 - sqrt(2)*atan(x**2)/2 - sqrt(2)*atan(sqrt(2)*x + 1)\n"
     ]
    }
   ],
   "source": [
    "'''\n",
    "\n",
    "Letra A)\n",
    "\n",
    "Podemos resolver integrais de duas formas, numericamente ou simbolicamente. No caso numérico solucionamos uma \n",
    "integral definida, isto é, que tem definido o intervalo de integração, desta forma o resultado é um número. \n",
    "Existem muitos métodos numéricos baseados em como subdividir o intervalo em polígonos a serem somados e \n",
    "alguns utilizando MMC. Já no caso simbólico nós podemos resolver integrais indefinidas, logo encontrar a \n",
    "função que define o resultado da integral. Utilize o numpy e o scipy para calcular a integral numérica do \n",
    "conjunto de pontos interpolados entre os valores x=-2 e x=4, com um total de 106 pontos no intervalo, gerados \n",
    "pelas funções Spline do exercício 1. Para o caso simbólico, utilize o sympy para calcular a integral \n",
    "indefinida ∫arctan (x2)dx\n",
    "\n",
    "'''\n",
    "print(\"Usando numpy : \", np.trapz(y, x = [-2, 4]))\n",
    "\n",
    "x = sym.Symbol('x')\n",
    "print(\"Calculando a integral : \", sym.integrate(sym.atan(x**2), x))\n",
    "\n",
    "\n"
   ]
  },
  {
   "cell_type": "code",
   "execution_count": 37,
   "metadata": {},
   "outputs": [
    {
     "name": "stdout",
     "output_type": "stream",
     "text": [
      "Calculando a derivada usando Sympy \n",
      " :  2*x/(x**4 + 1)\n",
      "Calculando a derivada usando Scipy \n",
      " :  0.9999999999732445\n"
     ]
    }
   ],
   "source": [
    "'''\n",
    "\n",
    "Letra B)\n",
    "Encontre a derivada da função arctan (x2) utilizando o sympy e o scipy.\n",
    "\n",
    "'''\n",
    "\n",
    "def f(x):\n",
    "    return np.arctan(x**2)\n",
    "\n",
    "print(\"Calculando a derivada usando Sympy \\n : \", sym.diff(sym.atan(x**2), x))\n",
    "\n",
    "print(\"Calculando a derivada usando Scipy \\n : \", derivative(f, 1.0, dx=1e-6))"
   ]
  },
  {
   "cell_type": "code",
   "execution_count": null,
   "metadata": {},
   "outputs": [],
   "source": []
  }
 ],
 "metadata": {
  "kernelspec": {
   "display_name": "Python 3",
   "language": "python",
   "name": "python3"
  },
  "language_info": {
   "codemirror_mode": {
    "name": "ipython",
    "version": 3
   },
   "file_extension": ".py",
   "mimetype": "text/x-python",
   "name": "python",
   "nbconvert_exporter": "python",
   "pygments_lexer": "ipython3",
   "version": "3.8.6"
  }
 },
 "nbformat": 4,
 "nbformat_minor": 4
}
