{
 "cells": [
  {
   "cell_type": "code",
   "execution_count": 1,
   "metadata": {},
   "outputs": [],
   "source": [
    "# Os imports\n",
    "import numpy as np"
   ]
  },
  {
   "cell_type": "code",
   "execution_count": 5,
   "metadata": {},
   "outputs": [],
   "source": [
    "# Utilizando o Método de Monte Carlo (MMC) para a integração:\n",
    "\n",
    "def MMC(f, a, b, n):\n",
    "    x = np.random.uniform(low = a, high = b, size = n)\n",
    "    y = np.apply_along_axis(f, 0, x)\n",
    "    return np.mean(y) * (b-a)\n",
    "\n",
    "def letraA(x):\n",
    "    return -1 + np.sqrt(x)\n",
    "\n",
    "def letraB(x):\n",
    "    return np.exp(-x)"
   ]
  },
  {
   "cell_type": "code",
   "execution_count": 6,
   "metadata": {},
   "outputs": [
    {
     "name": "stdout",
     "output_type": "stream",
     "text": [
      "O resultado da integral atraves do monte calor é : \n",
      "  0.4657424573526133\n"
     ]
    }
   ],
   "source": [
    "# Letra a: \n",
    "print(\"O resultado da integral atraves do monte calor é : \\n \", MMC(letraA, 0, 3, 1000000))"
   ]
  },
  {
   "cell_type": "code",
   "execution_count": 7,
   "metadata": {},
   "outputs": [
    {
     "name": "stdout",
     "output_type": "stream",
     "text": [
      "O resultado da integral atraves do monte calor é : \n",
      "  0.9492302831737209\n"
     ]
    }
   ],
   "source": [
    "# Letra B: \n",
    "print(\"O resultado da integral atraves do monte calor é : \\n \", MMC(letraB, 0, 3, 1000000))"
   ]
  },
  {
   "cell_type": "code",
   "execution_count": null,
   "metadata": {},
   "outputs": [],
   "source": []
  }
 ],
 "metadata": {
  "kernelspec": {
   "display_name": "Python 3",
   "language": "python",
   "name": "python3"
  },
  "language_info": {
   "codemirror_mode": {
    "name": "ipython",
    "version": 3
   },
   "file_extension": ".py",
   "mimetype": "text/x-python",
   "name": "python",
   "nbconvert_exporter": "python",
   "pygments_lexer": "ipython3",
   "version": "3.8.6"
  }
 },
 "nbformat": 4,
 "nbformat_minor": 4
}
