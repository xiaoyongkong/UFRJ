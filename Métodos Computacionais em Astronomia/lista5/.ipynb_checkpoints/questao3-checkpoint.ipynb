{
 "cells": [
  {
   "cell_type": "code",
   "execution_count": 1,
   "metadata": {},
   "outputs": [],
   "source": [
    "# Os imports\n",
    "import numpy as np"
   ]
  },
  {
   "cell_type": "code",
   "execution_count": 2,
   "metadata": {},
   "outputs": [],
   "source": [
    "# Utilizando o Método de Monte Carlo (MMC) para a integração:\n",
    "\n",
    "def MMC(f, a, b, n):\n",
    "    x = np.random.uniform(low = a, high = b, size = n)\n",
    "    y = np.apply_along_axis(f, 0, x)\n",
    "    return np.mean(y) * (b-a)\n",
    "\n",
    "def letraA(x):\n",
    "    return -1 + np.sqrt(x)\n",
    "\n",
    "def letraB(x):\n",
    "    return np.exp(-x)"
   ]
  },
  {
   "cell_type": "code",
   "execution_count": 3,
   "metadata": {},
   "outputs": [
    {
     "name": "stdout",
     "output_type": "stream",
     "text": [
      "O resultado da integral atraves do monte calor é : \n",
      "  0.4648625207022786\n"
     ]
    }
   ],
   "source": [
    "# Letra a: \n",
    "print(\"O resultado da integral atraves do monte calor é : \\n \", MMC(letraA, 0, 3, 1000000))"
   ]
  },
  {
   "cell_type": "code",
   "execution_count": 4,
   "metadata": {},
   "outputs": [
    {
     "name": "stdout",
     "output_type": "stream",
     "text": [
      "O resultado da integral atraves do monte calor é : \n",
      "  0.9494905302848973\n"
     ]
    }
   ],
   "source": [
    "# Letra B: \n",
    "print(\"O resultado da integral atraves do monte calor é : \\n \", MMC(letraB, 0, 3, 1000000))"
   ]
  }
 ],
 "metadata": {
  "kernelspec": {
   "display_name": "Python 3",
   "language": "python",
   "name": "python3"
  },
  "language_info": {
   "codemirror_mode": {
    "name": "ipython",
    "version": 3
   },
   "file_extension": ".py",
   "mimetype": "text/x-python",
   "name": "python",
   "nbconvert_exporter": "python",
   "pygments_lexer": "ipython3",
   "version": "3.8.6"
  }
 },
 "nbformat": 4,
 "nbformat_minor": 4
}
