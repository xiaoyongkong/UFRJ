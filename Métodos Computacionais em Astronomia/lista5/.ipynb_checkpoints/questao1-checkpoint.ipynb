{
 "cells": [
  {
   "cell_type": "code",
   "execution_count": 1,
   "metadata": {},
   "outputs": [],
   "source": [
    "#Os imports\n",
    "import numpy as np\n",
    "import pymp\n",
    "import matplotlib.pyplot as plt"
   ]
  },
  {
   "cell_type": "code",
   "execution_count": 2,
   "metadata": {},
   "outputs": [
    {
     "name": "stderr",
     "output_type": "stream",
     "text": [
      "ERROR:root:Internal Python error in the inspect module.\n",
      "Below is the traceback from this internal error.\n",
      "\n",
      "\n",
      "KeyboardInterrupt\n",
      "\n"
     ]
    }
   ],
   "source": [
    "#Enunciado\n",
    "\n",
    "'''\n",
    "\n",
    "Utilizando imagens de uma galáxia obtidas com um CCD monocromático (vários frames tirados de uma mesma galáxia), \n",
    "com resolução de 128x128 pixels (ccd1.dat, ccd2.dat, ... , ccd512.dat, comprimidas no arquivo ccd.zip), onde \n",
    "cada pixel tem o valor do brilho medido em unidades arbitrárias, mostre que o erro padrão (desvio padrão \n",
    "dos valores médios dos pixels – a média dos pixels da imagem) cai com √n na medida que as imagens são \n",
    "sobrepostas (calculando a média dos pixels somados – todos os pixels da imagem), para isso calcule o \n",
    "desvio padrão da distribuição das médias de 2,3,4,...,128 imagens, faça isso sorteando 256 amostras (com o \n",
    "número de imagens a serem utilizados para a média), a partir das 512 originais, com esses tamanhos.Faça um \n",
    "gráfico com a evolução do erro padrão de acordo com o número de imagens acumuladas e alguns exemplos das \n",
    "imagens acumuladas (com apenas 1 imagem, com 4 imagens sobrepostas/empilhadas, 16, 32, 64, ... , 512) (veja na \n",
    "figura abaixo a diferença entre 1 imagem e 512 empilhadas – as imagens têm ruído), para plotar as imagens use \n",
    "a função matshow do matplotlib. Em quais situações observacionais imagens são sobrepostas? Qual a vantagem \n",
    "deste procedimento com relação a variação da relação Sinal-Ruído? Quais tipos de sistemáticos e ruídos são \n",
    "atenuados desta forma? Qual o brilho médio do centro da galáxia, considerando como uma aproximação para este a \n",
    "média do quadrado de 16x16 pixels no centro da imagem?\n",
    "\n",
    "'''\n",
    "\n",
    "CCD = np.array([(np.loadtxt(\"ccd/ccd{}.dat\".format(i))) for i in range(1, 513)])\n",
    "desvio = pymp.shared.array(127, dtype='float64')\n",
    "\n",
    "CCD.shape\n",
    "with pymp.Parallel(4) as p:\n",
    "    for i in p.range(2,129):\n",
    "        amostras = np.zeros(256)\n",
    "        for j in range(256):\n",
    "            posicao = np.random.randint(0, 512, size = i)\n",
    "            amostras[j] = np.mean(CCD[posicao])\n",
    "        desvio[i-2] = np.std(amostras)\n",
    "        print(amostras, '\\n')\n",
    "    print(desvio, '\\n')\n"
   ]
  },
  {
   "cell_type": "code",
   "execution_count": null,
   "metadata": {},
   "outputs": [],
   "source": [
    "x = np.arange(2, 129)\n",
    "plt.figure(figsize=(15, 5))\n",
    "plt.subplot(1, 2, 1)\n",
    "plt.subplot(1, 2, 2)\n",
    "plt.plot(x, desvio)\n",
    "plt.plot(x, 1/np.sqrt(x), c='red')\n",
    "plt.show()\n",
    "\n",
    "plt.plot(1/np.sqrt(x), desvio)"
   ]
  },
  {
   "cell_type": "code",
   "execution_count": null,
   "metadata": {},
   "outputs": [],
   "source": [
    "for i in [1,4,16,32,64,128,256,512]:\n",
    "    imagem = np.sum(CCD[np.random.randint(0, 512, size=i)], axis=0)\n",
    "    plt.matshow(imagem)\n",
    "    plt.show()"
   ]
  },
  {
   "cell_type": "code",
   "execution_count": null,
   "metadata": {},
   "outputs": [],
   "source": [
    "print(\"A vantagem desse método está no fato de como o desvio padrão vai diminuindo com o tempo, o ruído também vai decrescendo. Assim com a relação Sinal-Ruido, o sinal tende a subir\")"
   ]
  },
  {
   "cell_type": "code",
   "execution_count": null,
   "metadata": {},
   "outputs": [],
   "source": []
  }
 ],
 "metadata": {
  "kernelspec": {
   "display_name": "Python 3",
   "language": "python",
   "name": "python3"
  },
  "language_info": {
   "codemirror_mode": {
    "name": "ipython",
    "version": 3
   },
   "file_extension": ".py",
   "mimetype": "text/x-python",
   "name": "python",
   "nbconvert_exporter": "python",
   "pygments_lexer": "ipython3",
   "version": "3.8.5"
  }
 },
 "nbformat": 4,
 "nbformat_minor": 4
}
