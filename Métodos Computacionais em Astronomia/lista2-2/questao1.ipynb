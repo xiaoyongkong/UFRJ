{
 "cells": [
  {
   "cell_type": "code",
   "execution_count": 1,
   "metadata": {
    "scrolled": true
   },
   "outputs": [],
   "source": [
    "import numpy as np"
   ]
  },
  {
   "cell_type": "code",
   "execution_count": 2,
   "metadata": {},
   "outputs": [
    {
     "data": {
      "text/plain": [
       "array([[ 11.,   6.,  -3.,   5.,   9., -10.,   0.,   1.,  -7.,  -6.,   6.,\n",
       "          4.,  11.,  -8.,  -9.,   6.,  -4.,   2.,   1.,  10.],\n",
       "       [  5.,   3.,  -1.,   0.,  -9.,  -6.,  -4.,  -6.,   1.,  10.,   5.,\n",
       "          5.,   1.,   1.,  11.,   6.,   8.,  -1.,   3.,  10.],\n",
       "       [  9.,   3.,   5.,  11.,  11.,  11.,   3.,   6.,   2.,   7.,  11.,\n",
       "          8.,  -3.,   2.,  -9.,   7., -10.,  10.,   2.,  -1.],\n",
       "       [  0.,  -1.,  -7.,  -8.,  -5.,  -3.,   9.,   2.,   7.,   4.,  11.,\n",
       "         -7.,  10.,   0.,   1.,   2.,  10.,   8.,   1.,  -8.],\n",
       "       [ -3.,   3.,  -8.,  -4.,   6.,   9.,  -4.,  -2.,  -7.,  -1.,  -9.,\n",
       "         -5.,  -9.,  -3.,  -7.,  -5.,  -6.,  11., -10.,   2.],\n",
       "       [  5.,  -6.,  -2.,   0.,   2.,  -8.,  -3.,  -7.,   7.,  -2.,  -2.,\n",
       "         -4.,  -3.,  -1.,   8.,  10.,   4.,  -2.,  -3.,   2.]])"
      ]
     },
     "execution_count": 2,
     "metadata": {},
     "output_type": "execute_result"
    }
   ],
   "source": [
    "# Letra a\n",
    "# Leia o arquivo array.dat usando o comando np.loadtxt() e armazene o mesmo como “array_original”\n",
    "array_original = np.loadtxt(\"array.dat\")\n",
    "array_original"
   ]
  },
  {
   "cell_type": "code",
   "execution_count": 3,
   "metadata": {},
   "outputs": [
    {
     "name": "stdout",
     "output_type": "stream",
     "text": [
      "Array igual a 3a coluna  [-3. -1.  5. -7. -8. -2.]\n",
      "\n",
      " Array igual a 5 linha  [ -3.   3.  -8.  -4.   6.   9.  -4.  -2.  -7.  -1.  -9.  -5.  -9.  -3.\n",
      "  -7.  -5.  -6.  11. -10.   2.]\n"
     ]
    }
   ],
   "source": [
    "# Letra b\n",
    "# Defina um novo array como sendo igual a 3a coluna do array_original, e um outro array como sendo a 5a linha do array_original.\n",
    "novo_array = array_original[:,2]\n",
    "outro_array = array_original[4]\n",
    "\n",
    "print(\"Array igual a 3a coluna \",novo_array)\n",
    "print(\"\\n Array igual a 5 linha \", outro_array)"
   ]
  },
  {
   "cell_type": "code",
   "execution_count": 4,
   "metadata": {},
   "outputs": [
    {
     "data": {
      "text/plain": [
       "array([[  6.,   5., -10.,   1.,  -6.,   4.,  -8.,   6.,   2.,  10.],\n",
       "       [  3.,   0.,  -6.,  -6.,  10.,   5.,   1.,   6.,  -1.,  10.],\n",
       "       [  3.,  11.,  11.,   6.,   7.,   8.,   2.,   7.,  10.,  -1.],\n",
       "       [ -1.,  -8.,  -3.,   2.,   4.,  -7.,   0.,   2.,   8.,  -8.],\n",
       "       [  3.,  -4.,   9.,  -2.,  -1.,  -5.,  -3.,  -5.,  11.,   2.],\n",
       "       [ -6.,   0.,  -8.,  -7.,  -2.,  -4.,  -1.,  10.,  -2.,   2.]])"
      ]
     },
     "execution_count": 4,
     "metadata": {},
     "output_type": "execute_result"
    }
   ],
   "source": [
    "# Letra c\n",
    "# Defina um novo array com com as colunas pares do array_ogirinal\n",
    "colunas_pares = array_original[:,1::2]\n",
    "colunas_pares"
   ]
  },
  {
   "cell_type": "code",
   "execution_count": 5,
   "metadata": {},
   "outputs": [
    {
     "data": {
      "text/plain": [
       "array([[ 11.,   6.,  -3.,   5.,   9., -10.,   0.,   1.,  -7.,  -6.,   6.,\n",
       "          4.,  11.,  -8.,  -9.,   6.,  -4.,   2.,   1.,  10.],\n",
       "       [  9.,   3.,   5.,  11.,  11.,  11.,   3.,   6.,   2.,   7.,  11.,\n",
       "          8.,  -3.,   2.,  -9.,   7., -10.,  10.,   2.,  -1.],\n",
       "       [ -3.,   3.,  -8.,  -4.,   6.,   9.,  -4.,  -2.,  -7.,  -1.,  -9.,\n",
       "         -5.,  -9.,  -3.,  -7.,  -5.,  -6.,  11., -10.,   2.]])"
      ]
     },
     "execution_count": 5,
     "metadata": {},
     "output_type": "execute_result"
    }
   ],
   "source": [
    "# Letra d\n",
    "# Defina um novo array com as linhas impares do array_original\n",
    "linhas_impares = array_original[0::2]\n",
    "linhas_impares"
   ]
  },
  {
   "cell_type": "code",
   "execution_count": 6,
   "metadata": {},
   "outputs": [
    {
     "data": {
      "text/plain": [
       "array([  5., -10.,   0.,  10.,   5.,   0.,  10.,   5.,   5.,  10.,   5.,\n",
       "       -10.,  10.,   0.,  -5.,  10.,   0.,  10.,  -5.,  -5., -10.,   5.,\n",
       "         0.,  10.])"
      ]
     },
     "execution_count": 6,
     "metadata": {},
     "output_type": "execute_result"
    }
   ],
   "source": [
    "# Letra e\n",
    "# Defina um novo array com os números múltiplos de 5 do array_original.\n",
    "multiplos_5 = array_original[array_original%5==0];\n",
    "multiplos_5"
   ]
  },
  {
   "cell_type": "code",
   "execution_count": 7,
   "metadata": {},
   "outputs": [
    {
     "data": {
      "text/plain": [
       "array([11.,  6.,  5.,  9.,  1.,  6.,  4., 11.,  6.,  2.,  1., 10.,  5.,\n",
       "        3.,  1., 10.,  5.,  5.,  1.,  1., 11.,  6.,  8.,  3., 10.,  9.,\n",
       "        3.,  5., 11., 11., 11.,  3.,  6.,  2.,  7., 11.,  8.,  2.,  7.,\n",
       "       10.,  2.,  9.,  2.,  7.,  4., 11., 10.,  1.,  2., 10.,  8.,  1.,\n",
       "        3.,  6.,  9., 11.,  2.,  5.,  2.,  7.,  8., 10.,  4.,  2.])"
      ]
     },
     "execution_count": 7,
     "metadata": {},
     "output_type": "execute_result"
    }
   ],
   "source": [
    "# Letra f\n",
    "# Defina um array com apenas os números positivos do array_original.\n",
    "maior_5 = array_original[array_original > 0]\n",
    "maior_5"
   ]
  },
  {
   "cell_type": "code",
   "execution_count": 8,
   "metadata": {},
   "outputs": [
    {
     "data": {
      "text/plain": [
       "array([[ 11.,   5.,   9.,   0.,  -3.,   5.],\n",
       "       [  6.,   3.,   3.,  -1.,   3.,  -6.],\n",
       "       [ -3.,  -1.,   5.,  -7.,  -8.,  -2.],\n",
       "       [  5.,   0.,  11.,  -8.,  -4.,   0.],\n",
       "       [  9.,  -9.,  11.,  -5.,   6.,   2.],\n",
       "       [-10.,  -6.,  11.,  -3.,   9.,  -8.],\n",
       "       [  0.,  -4.,   3.,   9.,  -4.,  -3.],\n",
       "       [  1.,  -6.,   6.,   2.,  -2.,  -7.],\n",
       "       [ -7.,   1.,   2.,   7.,  -7.,   7.],\n",
       "       [ -6.,  10.,   7.,   4.,  -1.,  -2.],\n",
       "       [  6.,   5.,  11.,  11.,  -9.,  -2.],\n",
       "       [  4.,   5.,   8.,  -7.,  -5.,  -4.],\n",
       "       [ 11.,   1.,  -3.,  10.,  -9.,  -3.],\n",
       "       [ -8.,   1.,   2.,   0.,  -3.,  -1.],\n",
       "       [ -9.,  11.,  -9.,   1.,  -7.,   8.],\n",
       "       [  6.,   6.,   7.,   2.,  -5.,  10.],\n",
       "       [ -4.,   8., -10.,  10.,  -6.,   4.],\n",
       "       [  2.,  -1.,  10.,   8.,  11.,  -2.],\n",
       "       [  1.,   3.,   2.,   1., -10.,  -3.],\n",
       "       [ 10.,  10.,  -1.,  -8.,   2.,   2.]])"
      ]
     },
     "execution_count": 8,
     "metadata": {},
     "output_type": "execute_result"
    }
   ],
   "source": [
    "# Letra g\n",
    "# Defina um novo array como sendo a transposta do array_original\n",
    "transposta = np.transpose(array_original)\n",
    "\n",
    "transposta"
   ]
  },
  {
   "cell_type": "code",
   "execution_count": 13,
   "metadata": {},
   "outputs": [
    {
     "data": {
      "text/plain": [
       "array([ 11.,   6.,  -3.,   5.,   9., -10.,   0.,   1.,  -7.,  -6.,   6.,\n",
       "         4.,  11.,  -8.,  -9.,   6.,  -4.,   2.,   1.,  10.,   5.,   3.,\n",
       "        -1.,   0.,  -9.,  -6.,  -4.,  -6.,   1.,  10.,   5.,   5.,   1.,\n",
       "         1.,  11.,   6.,   8.,  -1.,   3.,  10.,   9.,   3.,   5.,  11.,\n",
       "        11.,  11.,   3.,   6.,   2.,   7.,  11.,   8.,  -3.,   2.,  -9.,\n",
       "         7., -10.,  10.,   2.,  -1.,   0.,  -1.,  -7.,  -8.,  -5.,  -3.,\n",
       "         9.,   2.,   7.,   4.,  11.,  -7.,  10.,   0.,   1.,   2.,  10.,\n",
       "         8.,   1.,  -8.,  -3.,   3.,  -8.,  -4.,   6.,   9.,  -4.,  -2.,\n",
       "        -7.,  -1.,  -9.,  -5.,  -9.,  -3.,  -7.,  -5.,  -6.,  11., -10.,\n",
       "         2.,   5.,  -6.,  -2.,   0.,   2.,  -8.,  -3.,  -7.,   7.,  -2.,\n",
       "        -2.,  -4.,  -3.,  -1.,   8.,  10.,   4.,  -2.,  -3.,   2.])"
      ]
     },
     "execution_count": 13,
     "metadata": {},
     "output_type": "execute_result"
    }
   ],
   "source": [
    "# Letra h\n",
    "# Defina um novo array como sendo um array achatado (apenas uma linha) do array_original usando reshape , ravel ou flatten \n",
    "# (olhe na documentação do numpy imbutida nos links anteriores)\n",
    "achatado = array_original.flatten()\n",
    "\n",
    "achatado\n"
   ]
  },
  {
   "cell_type": "code",
   "execution_count": 15,
   "metadata": {},
   "outputs": [
    {
     "data": {
      "text/plain": [
       "array([[ 11.,   6.,  -3.,   5.,   9., -10.,   0.,   1.,  -7.,  -6.],\n",
       "       [  6.,   4.,  11.,  -8.,  -9.,   6.,  -4.,   2.,   1.,  10.],\n",
       "       [  5.,   3.,  -1.,   0.,  -9.,  -6.,  -4.,  -6.,   1.,  10.],\n",
       "       [  5.,   5.,   1.,   1.,  11.,   6.,   8.,  -1.,   3.,  10.],\n",
       "       [  9.,   3.,   5.,  11.,  11.,  11.,   3.,   6.,   2.,   7.],\n",
       "       [ 11.,   8.,  -3.,   2.,  -9.,   7., -10.,  10.,   2.,  -1.],\n",
       "       [  0.,  -1.,  -7.,  -8.,  -5.,  -3.,   9.,   2.,   7.,   4.],\n",
       "       [ 11.,  -7.,  10.,   0.,   1.,   2.,  10.,   8.,   1.,  -8.],\n",
       "       [ -3.,   3.,  -8.,  -4.,   6.,   9.,  -4.,  -2.,  -7.,  -1.],\n",
       "       [ -9.,  -5.,  -9.,  -3.,  -7.,  -5.,  -6.,  11., -10.,   2.],\n",
       "       [  5.,  -6.,  -2.,   0.,   2.,  -8.,  -3.,  -7.,   7.,  -2.],\n",
       "       [ -2.,  -4.,  -3.,  -1.,   8.,  10.,   4.,  -2.,  -3.,   2.]])"
      ]
     },
     "execution_count": 15,
     "metadata": {},
     "output_type": "execute_result"
    }
   ],
   "source": [
    "# Letra i\n",
    "# Utilizando reshape sobre o array do item anterior, gere um array final com 12 linhas e 10 colunas\n",
    "reshape = np.reshape(array_original, (12,10))\n",
    "reshape"
   ]
  },
  {
   "cell_type": "code",
   "execution_count": null,
   "metadata": {},
   "outputs": [],
   "source": []
  }
 ],
 "metadata": {
  "kernelspec": {
   "display_name": "Python 3.8.5 64-bit",
   "language": "python",
   "name": "python38564bit8015adbf16564db0aaf61e9442764a47"
  },
  "language_info": {
   "codemirror_mode": {
    "name": "ipython",
    "version": 3
   },
   "file_extension": ".py",
   "mimetype": "text/x-python",
   "name": "python",
   "nbconvert_exporter": "python",
   "pygments_lexer": "ipython3",
   "version": "3.8.5"
  }
 },
 "nbformat": 4,
 "nbformat_minor": 2
}
