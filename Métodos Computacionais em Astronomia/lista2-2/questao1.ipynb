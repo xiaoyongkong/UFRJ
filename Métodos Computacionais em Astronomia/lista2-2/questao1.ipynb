{
 "metadata": {
  "language_info": {
   "codemirror_mode": {
    "name": "ipython",
    "version": 3
   },
   "file_extension": ".py",
   "mimetype": "text/x-python",
   "name": "python",
   "nbconvert_exporter": "python",
   "pygments_lexer": "ipython3",
   "version": "3.8.5-final"
  },
  "orig_nbformat": 2,
  "kernelspec": {
   "name": "python38564bit8015adbf16564db0aaf61e9442764a47",
   "display_name": "Python 3.8.5 64-bit"
  }
 },
 "nbformat": 4,
 "nbformat_minor": 2,
 "cells": [
  {
   "cell_type": "code",
   "execution_count": 11,
   "metadata": {
    "tags": []
   },
   "outputs": [
    {
     "output_type": "error",
     "ename": "SyntaxError",
     "evalue": "invalid syntax (<ipython-input-11-996c033eb940>, line 10)",
     "traceback": [
      "\u001b[0;36m  File \u001b[0;32m\"<ipython-input-11-996c033eb940>\"\u001b[0;36m, line \u001b[0;32m10\u001b[0m\n\u001b[0;31m    novo_array = array_original[][2]\u001b[0m\n\u001b[0m                                ^\u001b[0m\n\u001b[0;31mSyntaxError\u001b[0m\u001b[0;31m:\u001b[0m invalid syntax\n"
     ]
    }
   ],
   "source": [
    "import numpy as np\n",
    "\n",
    "#############################################################  Letra a #############################################################\n",
    "# Leia o arquivo array.dat usando o comando np.loadtxt() e armazene o mesmo como “array_original”\n",
    "array_original = np.loadtxt(\"array.dat\")\n",
    "####################################################################################################################################\n",
    "\n",
    "#############################################################  Letra b #############################################################\n",
    "# Defina um novo array como sendo igual a 3a coluna do array_original, e um outro array como sendo a 5a linha do array_original.\n",
    "novo_array = array_original[:,2]\n",
    "outro_array = array_original[4]\n",
    "print(novo_array)\n",
    "####################################################################################################################################"
   ]
  },
  {
   "cell_type": "code",
   "execution_count": null,
   "metadata": {},
   "outputs": [],
   "source": []
  },
  {
   "cell_type": "code",
   "execution_count": null,
   "metadata": {},
   "outputs": [],
   "source": []
  }
 ]
}