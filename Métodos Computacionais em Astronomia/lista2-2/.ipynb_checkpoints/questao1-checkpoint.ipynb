{
 "cells": [
  {
   "cell_type": "code",
   "execution_count": 1,
   "metadata": {
    "scrolled": true
   },
   "outputs": [],
   "source": [
    "import numpy as np"
   ]
  },
  {
   "cell_type": "code",
   "execution_count": 2,
   "metadata": {},
   "outputs": [
    {
     "name": "stdout",
     "output_type": "stream",
     "text": [
      "[[ 11.   6.  -3.   5.   9. -10.   0.   1.  -7.  -6.   6.   4.  11.  -8.\n",
      "   -9.   6.  -4.   2.   1.  10.]\n",
      " [  5.   3.  -1.   0.  -9.  -6.  -4.  -6.   1.  10.   5.   5.   1.   1.\n",
      "   11.   6.   8.  -1.   3.  10.]\n",
      " [  9.   3.   5.  11.  11.  11.   3.   6.   2.   7.  11.   8.  -3.   2.\n",
      "   -9.   7. -10.  10.   2.  -1.]\n",
      " [  0.  -1.  -7.  -8.  -5.  -3.   9.   2.   7.   4.  11.  -7.  10.   0.\n",
      "    1.   2.  10.   8.   1.  -8.]\n",
      " [ -3.   3.  -8.  -4.   6.   9.  -4.  -2.  -7.  -1.  -9.  -5.  -9.  -3.\n",
      "   -7.  -5.  -6.  11. -10.   2.]\n",
      " [  5.  -6.  -2.   0.   2.  -8.  -3.  -7.   7.  -2.  -2.  -4.  -3.  -1.\n",
      "    8.  10.   4.  -2.  -3.   2.]]\n"
     ]
    }
   ],
   "source": [
    "# Leia o arquivo array.dat usando o comando np.loadtxt() e armazene o mesmo como “array_original”\n",
    "array_original = np.loadtxt(\"array.dat\")\n",
    "print(array_original)"
   ]
  },
  {
   "cell_type": "code",
   "execution_count": 3,
   "metadata": {},
   "outputs": [
    {
     "name": "stdout",
     "output_type": "stream",
     "text": [
      "[-3. -1.  5. -7. -8. -2.]\n",
      "\n",
      "[ -3.   3.  -8.  -4.   6.   9.  -4.  -2.  -7.  -1.  -9.  -5.  -9.  -3.\n",
      "  -7.  -5.  -6.  11. -10.   2.]\n"
     ]
    }
   ],
   "source": [
    "# Defina um novo array como sendo igual a 3a coluna do array_original, e um outro array como sendo a 5a linha do array_original.\n",
    "novo_array = array_original[:,2]\n",
    "outro_array = array_original[4]\n",
    "print(novo_array)\n",
    "print()\n",
    "print(outro_array)"
   ]
  },
  {
   "cell_type": "code",
   "execution_count": 4,
   "metadata": {},
   "outputs": [
    {
     "name": "stdout",
     "output_type": "stream",
     "text": [
      "[[  6.   5. -10.   1.  -6.   4.  -8.   6.   2.  10.]\n",
      " [  3.   0.  -6.  -6.  10.   5.   1.   6.  -1.  10.]\n",
      " [  3.  11.  11.   6.   7.   8.   2.   7.  10.  -1.]\n",
      " [ -1.  -8.  -3.   2.   4.  -7.   0.   2.   8.  -8.]\n",
      " [  3.  -4.   9.  -2.  -1.  -5.  -3.  -5.  11.   2.]\n",
      " [ -6.   0.  -8.  -7.  -2.  -4.  -1.  10.  -2.   2.]]\n"
     ]
    }
   ],
   "source": [
    "# Defina um novo array com com as colunas pares do array_ogirinal\n",
    "colunas_pares = array_original[:,1::2]\n",
    "print(colunas_pares)"
   ]
  },
  {
   "cell_type": "code",
   "execution_count": 5,
   "metadata": {},
   "outputs": [
    {
     "name": "stdout",
     "output_type": "stream",
     "text": [
      "[[ 11.   6.  -3.   5.   9. -10.   0.   1.  -7.  -6.   6.   4.  11.  -8.\n",
      "   -9.   6.  -4.   2.   1.  10.]\n",
      " [  9.   3.   5.  11.  11.  11.   3.   6.   2.   7.  11.   8.  -3.   2.\n",
      "   -9.   7. -10.  10.   2.  -1.]\n",
      " [ -3.   3.  -8.  -4.   6.   9.  -4.  -2.  -7.  -1.  -9.  -5.  -9.  -3.\n",
      "   -7.  -5.  -6.  11. -10.   2.]]\n"
     ]
    }
   ],
   "source": [
    "# Defina um novo array com as linhas impares do array_original\n",
    "linhas_impares = array_original[0::2]\n",
    "print(linhas_impares)"
   ]
  },
  {
   "cell_type": "code",
   "execution_count": null,
   "metadata": {},
   "outputs": [],
   "source": []
  }
 ],
 "metadata": {
  "kernelspec": {
   "display_name": "Python 3.8.5 64-bit",
   "language": "python",
   "name": "python38564bit8015adbf16564db0aaf61e9442764a47"
  },
  "language_info": {
   "codemirror_mode": {
    "name": "ipython",
    "version": 3
   },
   "file_extension": ".py",
   "mimetype": "text/x-python",
   "name": "python",
   "nbconvert_exporter": "python",
   "pygments_lexer": "ipython3",
   "version": "3.8.5"
  }
 },
 "nbformat": 4,
 "nbformat_minor": 2
}
