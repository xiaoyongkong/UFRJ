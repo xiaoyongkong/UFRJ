{
 "cells": [
  {
   "cell_type": "code",
   "execution_count": 1,
   "metadata": {},
   "outputs": [],
   "source": [
    "import numpy as np\n",
    "import pandas as pd\n",
    "import matplotlib.pyplot as plt\n",
    "from astropy.coordinates import AltAz, EarthLocation, SkyCoord\n",
    "from astropy.time import Time\n",
    "import scipy as sp"
   ]
  },
  {
   "cell_type": "code",
   "execution_count": 6,
   "metadata": {},
   "outputs": [
    {
     "name": "stdout",
     "output_type": "stream",
     "text": [
      "Informe a Latitude 1\n",
      "\n",
      "Informe a Longitude 2\n",
      "\n",
      "Informe a Altitude 3\n",
      "\n",
      "Informe o Nome do Objeto a\n",
      "\n",
      "Coordenadas Altazimutais  66d49m54.2576s\n",
      "\n",
      "Coordenadas Equatoriais  <SkyCoord (FK5: equinox=J2000.000): (ra, dec) in deg\n",
      "    (9.81625645, 0.88806155)>\n"
     ]
    }
   ],
   "source": [
    "# Letra a\n",
    "# Utilizando o argparse e o astropy, faça um código em python que peça as coordenadas do observador \n",
    "# (latitude,longitude e altitude) e o nome do objeto e retorne (print) as coordenadas do objeto no \n",
    "# tempo atual (é livre a escolha da biblioteca para obter o tempo), em coordenas altazimutais e equatoriais.\n",
    "# Veja este tutorial e este tutorial para auxiliar com o astropy\n",
    "latitude = input(\"Informe a Latitude \")\n",
    "longitude = input(\"\\nInforme a Longitude \")\n",
    "altitude = input(\"\\nInforme a Altitude \")\n",
    "nome_objeto = input(\"\\nInforme o Nome do Objeto \")\n",
    "now = Time.now()\n",
    "location = EarthLocation(lat=latitude, lon=longitude, height=altitude)\n",
    "coord = SkyCoord(9.81625*u.deg, 0.88806*u.deg, frame='icrs')\n",
    "altazimutais = AltAz(location=location, obstime=now)\n",
    "\n",
    "\n",
    "print(\"\\nCoordenadas Altazimutais \", coord.transform_to(altazimutais).alt)\n",
    "print(\"\\nCoordenadas Equatoriais \", coord.transform_to('fk5'))\n"
   ]
  },
  {
   "cell_type": "code",
   "execution_count": 3,
   "metadata": {},
   "outputs": [],
   "source": [
    "# Letra b\n",
    "# Utilize o comando watch no terminal para que as coordenadas sejam atualizadas de \n",
    "# 2 em 2 segundos, experimente com as coordenadas da lua.\n",
    "$ watch 'python questao5b.py'\n"
   ]
  }
 ],
 "metadata": {
  "kernelspec": {
   "display_name": "Python 3.8.5 64-bit",
   "language": "python",
   "name": "python38564bit8015adbf16564db0aaf61e9442764a47"
  },
  "language_info": {
   "codemirror_mode": {
    "name": "ipython",
    "version": 3
   },
   "file_extension": ".py",
   "mimetype": "text/x-python",
   "name": "python",
   "nbconvert_exporter": "python",
   "pygments_lexer": "ipython3",
   "version": "3.8.5"
  }
 },
 "nbformat": 4,
 "nbformat_minor": 4
}
