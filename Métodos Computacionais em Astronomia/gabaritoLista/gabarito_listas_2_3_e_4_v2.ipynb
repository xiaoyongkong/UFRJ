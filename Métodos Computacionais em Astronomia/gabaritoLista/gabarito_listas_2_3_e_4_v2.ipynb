{
 "cells": [
  {
   "cell_type": "markdown",
   "metadata": {},
   "source": [
    "### Aqui colocarei apenas os códigos das questões, e partes de questões, que os alunos tiveram dificuldade."
   ]
  },
  {
   "cell_type": "markdown",
   "metadata": {},
   "source": [
    "# Lista 2 parte 2 (apenas questão 4)"
   ]
  },
  {
   "cell_type": "code",
   "execution_count": 1,
   "metadata": {},
   "outputs": [],
   "source": [
    "import pymp\n",
    "import numpy as np\n",
    "import pandas as pd\n",
    "import time\n",
    "import multiprocessing as mp\n",
    "from matplotlib import pyplot as plt\n",
    "from ipywidgets import interact"
   ]
  },
  {
   "cell_type": "markdown",
   "metadata": {},
   "source": [
    "## a)"
   ]
  },
  {
   "cell_type": "code",
   "execution_count": 82,
   "metadata": {},
   "outputs": [
    {
     "data": {
      "text/html": [
       "<div>\n",
       "<style scoped>\n",
       "    .dataframe tbody tr th:only-of-type {\n",
       "        vertical-align: middle;\n",
       "    }\n",
       "\n",
       "    .dataframe tbody tr th {\n",
       "        vertical-align: top;\n",
       "    }\n",
       "\n",
       "    .dataframe thead th {\n",
       "        text-align: right;\n",
       "    }\n",
       "</style>\n",
       "<table border=\"1\" class=\"dataframe\">\n",
       "  <thead>\n",
       "    <tr style=\"text-align: right;\">\n",
       "      <th></th>\n",
       "      <th>GALAXY NAME</th>\n",
       "      <th>DISTANCE (MPc)</th>\n",
       "      <th>VELOCITY (k/sec)</th>\n",
       "    </tr>\n",
       "  </thead>\n",
       "  <tbody>\n",
       "    <tr>\n",
       "      <th>0</th>\n",
       "      <td>NGC0055</td>\n",
       "      <td>2.0</td>\n",
       "      <td>94</td>\n",
       "    </tr>\n",
       "    <tr>\n",
       "      <th>1</th>\n",
       "      <td>NGC0247</td>\n",
       "      <td>4.1</td>\n",
       "      <td>176</td>\n",
       "    </tr>\n",
       "    <tr>\n",
       "      <th>2</th>\n",
       "      <td>UGC00685</td>\n",
       "      <td>6.0</td>\n",
       "      <td>271</td>\n",
       "    </tr>\n",
       "    <tr>\n",
       "      <th>3</th>\n",
       "      <td>UGC002888</td>\n",
       "      <td>6.7</td>\n",
       "      <td>374</td>\n",
       "    </tr>\n",
       "    <tr>\n",
       "      <th>4</th>\n",
       "      <td>M74</td>\n",
       "      <td>7.2</td>\n",
       "      <td>753</td>\n",
       "    </tr>\n",
       "    <tr>\n",
       "      <th>5</th>\n",
       "      <td>NGC0045</td>\n",
       "      <td>8.0</td>\n",
       "      <td>493</td>\n",
       "    </tr>\n",
       "    <tr>\n",
       "      <th>6</th>\n",
       "      <td>NGC0578</td>\n",
       "      <td>18.5</td>\n",
       "      <td>1616</td>\n",
       "    </tr>\n",
       "    <tr>\n",
       "      <th>7</th>\n",
       "      <td>NGC0063</td>\n",
       "      <td>18.7</td>\n",
       "      <td>1303</td>\n",
       "    </tr>\n",
       "    <tr>\n",
       "      <th>8</th>\n",
       "      <td>NGC2293</td>\n",
       "      <td>19.0</td>\n",
       "      <td>1782</td>\n",
       "    </tr>\n",
       "    <tr>\n",
       "      <th>9</th>\n",
       "      <td>NGC074</td>\n",
       "      <td>19.5</td>\n",
       "      <td>1811</td>\n",
       "    </tr>\n",
       "    <tr>\n",
       "      <th>10</th>\n",
       "      <td>NGC0596</td>\n",
       "      <td>20.8</td>\n",
       "      <td>1923</td>\n",
       "    </tr>\n",
       "    <tr>\n",
       "      <th>11</th>\n",
       "      <td>NGC0524</td>\n",
       "      <td>25.0</td>\n",
       "      <td>2509</td>\n",
       "    </tr>\n",
       "    <tr>\n",
       "      <th>12</th>\n",
       "      <td>NGC0289</td>\n",
       "      <td>27.4</td>\n",
       "      <td>1611</td>\n",
       "    </tr>\n",
       "    <tr>\n",
       "      <th>13</th>\n",
       "      <td>NGC2271</td>\n",
       "      <td>29.3</td>\n",
       "      <td>2408</td>\n",
       "    </tr>\n",
       "    <tr>\n",
       "      <th>14</th>\n",
       "      <td>NGC0514</td>\n",
       "      <td>34.4</td>\n",
       "      <td>2568</td>\n",
       "    </tr>\n",
       "    <tr>\n",
       "      <th>15</th>\n",
       "      <td>NGC0632</td>\n",
       "      <td>37.4</td>\n",
       "      <td>3238</td>\n",
       "    </tr>\n",
       "    <tr>\n",
       "      <th>16</th>\n",
       "      <td>NGC1700</td>\n",
       "      <td>39.2</td>\n",
       "      <td>3822</td>\n",
       "    </tr>\n",
       "    <tr>\n",
       "      <th>17</th>\n",
       "      <td>IC0381</td>\n",
       "      <td>39.4</td>\n",
       "      <td>2629</td>\n",
       "    </tr>\n",
       "    <tr>\n",
       "      <th>18</th>\n",
       "      <td>NGC1888</td>\n",
       "      <td>40.7</td>\n",
       "      <td>2308</td>\n",
       "    </tr>\n",
       "    <tr>\n",
       "      <th>19</th>\n",
       "      <td>NGC0661</td>\n",
       "      <td>48.0</td>\n",
       "      <td>3969</td>\n",
       "    </tr>\n",
       "  </tbody>\n",
       "</table>\n",
       "</div>"
      ],
      "text/plain": [
       "   GALAXY NAME  DISTANCE (MPc)  VELOCITY (k/sec)\n",
       "0      NGC0055             2.0                94\n",
       "1      NGC0247             4.1               176\n",
       "2     UGC00685             6.0               271\n",
       "3    UGC002888             6.7               374\n",
       "4          M74             7.2               753\n",
       "5      NGC0045             8.0               493\n",
       "6      NGC0578            18.5              1616\n",
       "7      NGC0063            18.7              1303\n",
       "8      NGC2293            19.0              1782\n",
       "9       NGC074            19.5              1811\n",
       "10     NGC0596            20.8              1923\n",
       "11     NGC0524            25.0              2509\n",
       "12     NGC0289            27.4              1611\n",
       "13     NGC2271            29.3              2408\n",
       "14     NGC0514            34.4              2568\n",
       "15     NGC0632            37.4              3238\n",
       "16     NGC1700            39.2              3822\n",
       "17      IC0381            39.4              2629\n",
       "18     NGC1888            40.7              2308\n",
       "19     NGC0661            48.0              3969"
      ]
     },
     "execution_count": 82,
     "metadata": {},
     "output_type": "execute_result"
    }
   ],
   "source": [
    "df = pd.read_csv('diagrama_de_Hubble.csv')\n",
    "df"
   ]
  },
  {
   "cell_type": "markdown",
   "metadata": {},
   "source": [
    "## b)"
   ]
  },
  {
   "cell_type": "code",
   "execution_count": 83,
   "metadata": {},
   "outputs": [
    {
     "data": {
      "text/plain": [
       "array([[2.000e+00, 9.400e+01],\n",
       "       [4.100e+00, 1.760e+02],\n",
       "       [6.000e+00, 2.710e+02],\n",
       "       [6.700e+00, 3.740e+02],\n",
       "       [7.200e+00, 7.530e+02],\n",
       "       [8.000e+00, 4.930e+02],\n",
       "       [1.850e+01, 1.616e+03],\n",
       "       [1.870e+01, 1.303e+03],\n",
       "       [1.900e+01, 1.782e+03],\n",
       "       [1.950e+01, 1.811e+03],\n",
       "       [2.080e+01, 1.923e+03],\n",
       "       [2.500e+01, 2.509e+03],\n",
       "       [2.740e+01, 1.611e+03],\n",
       "       [2.930e+01, 2.408e+03],\n",
       "       [3.440e+01, 2.568e+03],\n",
       "       [3.740e+01, 3.238e+03],\n",
       "       [3.920e+01, 3.822e+03],\n",
       "       [3.940e+01, 2.629e+03],\n",
       "       [4.070e+01, 2.308e+03],\n",
       "       [4.800e+01, 3.969e+03]])"
      ]
     },
     "execution_count": 83,
     "metadata": {},
     "output_type": "execute_result"
    }
   ],
   "source": [
    "df2 = np.genfromtxt('diagrama_de_Hubble.csv',delimiter=\",\",skip_header=1)[:,1:3]\n",
    "df2"
   ]
  },
  {
   "cell_type": "markdown",
   "metadata": {},
   "source": [
    "## c)"
   ]
  },
  {
   "cell_type": "code",
   "execution_count": 8,
   "metadata": {},
   "outputs": [
    {
     "data": {
      "image/png": "[encoded data removed]",
      "text/plain": [
       "<Figure size 432x288 with 1 Axes>"
      ]
     },
     "metadata": {
      "needs_background": "light"
     },
     "output_type": "display_data"
    }
   ],
   "source": [
    "plt.scatter(df['DISTANCE (MPc)'],df['VELOCITY (k/sec)'])\n",
    "plt.title('Diagrama de Hubble')\n",
    "plt.xlabel('Distância (Mpc)')\n",
    "plt.ylabel('Velocidade (km/s)')\n",
    "plt.show()"
   ]
  },
  {
   "cell_type": "markdown",
   "metadata": {},
   "source": [
    "## d) Há muitas forma de se fazer, vou colocar aqui de uma forma simples"
   ]
  },
  {
   "cell_type": "code",
   "execution_count": 84,
   "metadata": {},
   "outputs": [
    {
     "name": "stdout",
     "output_type": "stream",
     "text": [
      "best fit - iter: 0 =  80.0\n",
      "best fit - iter: 1 =  78.88888888888889\n",
      "best fit - iter: 2 =  79.13580246913581\n",
      "best fit - iter: 3 =  79.08093278463649\n",
      "best fit - iter: 4 =  79.04435299497028\n"
     ]
    }
   ],
   "source": [
    "def mmq_reta(observado_y,observado_x,val_inicial,val_final,passos,tolerancia):\n",
    "    iteracao = 0 # para contar quantas iterações fizemos\n",
    "    while (2*abs((val_inicial-val_final)/(val_inicial+val_final)) > tolerancia):\n",
    "        mmq_array = np.zeros(passos) # pré-aloca o espaço para os valores do mmq\n",
    "        a_range = np.linspace(val_inicial,val_final,passos) # gerando valores de teste para o coeficiente\n",
    "        for i in range(passos):\n",
    "            mmq_array[i] = np.sum((observado_y-a_range[i]*observado_x)**2) # calculando os quadrados dos erros para cada teste do coeficiente\n",
    "        idx_min = np.argmin(mmq_array) # encontrando a posição do mínimo\n",
    "        val_inicial,ajuste,val_final = a_range[idx_min-1:idx_min+2] # pegando o valor mínimo e seus vizinhos - atualiza para a prox. iteração\n",
    "        print('best fit - iter: '+str(iteracao)+' = ', ajuste)\n",
    "        iteracao += 1\n",
    "    return ajuste\n",
    "\n",
    "# valores a serem aplicados:\n",
    "x = df2[:,0] # observado\n",
    "y = df2[:,1] # observado\n",
    "val_final = 100 # chute do máximo\n",
    "val_inicial = 10 # chute do mínimo\n",
    "passos = 10 # numero de passos por iteração\n",
    "tolerancia = 0.002 # tolerância da variação entre iterações\n",
    "\n",
    "h0 = mmq_reta(y,x,val_inicial,val_final,passos,tolerancia)\n"
   ]
  },
  {
   "cell_type": "markdown",
   "metadata": {},
   "source": [
    "# 5) - Soluções da Laíza e Theo"
   ]
  },
  {
   "cell_type": "code",
   "execution_count": null,
   "metadata": {},
   "outputs": [],
   "source": [
    "with open('realtime.py', 'w') as pyfile:\n",
    "    print(\"\"\"import argparse\n",
    "\n",
    "import astropy.units as u\n",
    "from astropy.time import Time\n",
    "from astropy.coordinates import SkyCoord, EarthLocation, AltAz\n",
    "\n",
    "parser = argparse.ArgumentParser(description='Código que recebe coordenadas do observador(latitude, longitude e altitude) e o nome de um objeto e retorna as coordenadas no tempo atual.')\n",
    "\n",
    "parser.add_argument('-lat', '--latitude', type=float, help='Latitude do observador')\n",
    "parser.add_argument('-lon', '--longitude', type=float, help='Longitude do observador')\n",
    "parser.add_argument('-alt', '--altitude', type=int, help='Altitude do observador')\n",
    "parser.add_argument('-obj', '--objeto', type=str, help='Nome do objeto')\n",
    "\n",
    "obj = SkyCoord.from_name(args.objeto)\n",
    "coords = EarthLocation(lat=args.latitude*u.deg, lon=args.longitude*u.deg, height=args.altitude*u.m)\n",
    "agora = Time.now()\n",
    "obj_aa = obj.transform_to(AltAz(location=coords, obstime=agora))\n",
    "\n",
    "print(f'''Localização do Observador: ({args.latitude}, {args.longitude}, {args.altitude})\n",
    "Objeto: {args.objeto}\n",
    "Coordenadas\n",
    "Altazimutais: ({obj_aa.az}, {obj_aa.alt})\n",
    "Equatoriais: ({obj.ra}, {obj.dec})\n",
    "''')\"\"\", file=pyfile)"
   ]
  },
  {
   "cell_type": "markdown",
   "metadata": {},
   "source": [
    "## uma variação (a ser salva em um arquivo .py separado)"
   ]
  },
  {
   "cell_type": "code",
   "execution_count": null,
   "metadata": {},
   "outputs": [],
   "source": [
    "#!/usr/bin/env python3\n",
    "\n",
    "import argparse\n",
    "import astropy.units as u\n",
    "from astropy.time import Time\n",
    "from astropy.coordinates import SkyCoord, EarthLocation, AltAz\n",
    "\n",
    "parser = argparse.ArgumentParser(description='coordenadas de um astro')\n",
    "parser.add_argument('--astro',type=str,help='Escolha um astro')\n",
    "parser.add_argument('--latitude',type=float,help='Insira sua latitude')\n",
    "parser.add_argument('--longitude',type=float,help='Insira sua longitude')\n",
    "parser.add_argument('--altitude',type=float,help='Insira sua altitude')\n",
    "args = parser.parse_args()\n",
    "\n",
    "def equatoriais(astro):\n",
    "    astro_eq = SkyCoord.from_name(astro)\n",
    "    return astro_eq\n",
    "\n",
    "def altazimutais(astro,latitude,longitude,altitude):\n",
    "    coord_astro = SkyCoord.from_name(astro)\n",
    "    coord_terra = EarthLocation(lat=latitude*u.deg,lon=longitude*u.deg,height=altitude*u.m)\n",
    "    tempo = Time.now()\n",
    "    astro_altaz = coord_astro.transform_to(AltAz(obstime=tempo,location=coord_terra))\n",
    "    return astro_altaz\n",
    "\n",
    "print(\"Coordenadas equatoriais: %s\" %equatoriais(args.astro))\n",
    "print(\"\\n\")\n",
    "print(\"Coordenadas altazimutais: %s\" %altazimutais(args.astro,args.latitude,args.longitude,args.altitude))"
   ]
  },
  {
   "cell_type": "markdown",
   "metadata": {},
   "source": [
    "***\n",
    "***\n",
    "***\n"
   ]
  },
  {
   "cell_type": "markdown",
   "metadata": {},
   "source": [
    "# Lista 3"
   ]
  },
  {
   "cell_type": "markdown",
   "metadata": {},
   "source": [
    "## 1ª questão"
   ]
  },
  {
   "cell_type": "markdown",
   "metadata": {},
   "source": [
    "### a)"
   ]
  },
  {
   "cell_type": "code",
   "execution_count": 103,
   "metadata": {},
   "outputs": [
    {
     "data": {
      "image/png": "[encoded data removed]",
      "text/plain": [
       "<Figure size 432x288 with 1 Axes>"
      ]
     },
     "metadata": {
      "needs_background": "light"
     },
     "output_type": "display_data"
    },
    {
     "data": {
      "image/png": "[encoded data removed]",
      "text/plain": [
       "<Figure size 432x288 with 1 Axes>"
      ]
     },
     "metadata": {
      "needs_background": "light"
     },
     "output_type": "display_data"
    }
   ],
   "source": [
    "bin1 = np.loadtxt('binaria_eclipsante_1.dat')\n",
    "bin2 = np.loadtxt('binaria_eclipsante_2.dat')\n",
    "\n",
    "t1 = bin1[:,0]\n",
    "b1 = bin1[:,1]\n",
    "e1 = bin1[:,2]\n",
    "\n",
    "t2 = bin2[:,0]\n",
    "b2 = bin2[:,1]\n",
    "e2 = bin2[:,2]\n",
    "\n",
    "plt.scatter(t1,b1)\n",
    "plt.show()\n",
    "plt.scatter(t2,b2)\n",
    "plt.show()"
   ]
  },
  {
   "cell_type": "code",
   "execution_count": 115,
   "metadata": {},
   "outputs": [
    {
     "name": "stdout",
     "output_type": "stream",
     "text": [
      "Sistema 1:\n",
      "best fit - iter: 0 - T =  3.627906976744186\n",
      "best fit - iter: 1 - T =  3.6\n",
      "best fit - iter: 2 - T =  3.5998907634421653\n",
      "Sistema 2:\n",
      "best fit - iter: 0 - T =  362.7906976744186\n",
      "best fit - iter: 1 - T =  359.99999999999994\n",
      "best fit - iter: 2 - T =  360.01092431874724\n"
     ]
    }
   ],
   "source": [
    "def chi_quadrado_sen(observado_y,observado_x,erro,val_inicial,val_final,passos,tolerancia):\n",
    "    iteracao = 0 # para contar quantas iterações fizemos\n",
    "    while (2*abs((val_inicial-val_final)/(val_inicial+val_final)) > tolerancia):\n",
    "        chi2_array = np.zeros(passos) # pré-aloca o espaço para os valores do chi2\n",
    "        w_range = np.linspace(val_inicial,val_final,passos) # gerando valores de teste para o coeficiente\n",
    "        for i in range(passos):\n",
    "            chi2_array[i] = np.sum(((observado_y-np.sin(w_range[i]*observado_x))/erro)**2) # calculando os quadrados dos erros para cada teste do coeficiente\n",
    "        idx_min = np.argmin(chi2_array) # encontrando a posição do mínimo\n",
    "        val_inicial,ajuste,val_final = w_range[idx_min-1:idx_min+2] # pegando o valor mínimo e seus vizinhos - atualiza para a prox. iteração\n",
    "        print('best fit - iter: '+str(iteracao)+' - T = ', 2*np.pi/ajuste)\n",
    "        iteracao += 1\n",
    "    return ajuste \n",
    "\n",
    "# valores a serem aplicados:\n",
    "val_final1 = 2*np.pi/4 # chute do máximo -> 4 dias\n",
    "val_inicial1 = 2*np.pi/2 # chute do mínimo -> 2 dias\n",
    "val_final2 = 2*np.pi/400 # chute do máximo -> 400 dias\n",
    "val_inicial2 = 2*np.pi/200 # chute do mínimo -> 200 dias\n",
    "passos = 40 # numero de passos por iteração\n",
    "tolerancia = 0.0005 # tolerância da variação entre iterações\n",
    "\n",
    "#periodo do sistema 1\n",
    "print('Sistema 1:')\n",
    "w1 = chi_quadrado_sen(b1,t1,e1,val_inicial1,val_final1,passos,tolerancia)\n",
    "print('Sistema 2:')\n",
    "#periodo do sistema 2\n",
    "w2 = chi_quadrado_sen(b2,t2,e2,val_inicial2,val_final2,passos,tolerancia)\n"
   ]
  },
  {
   "cell_type": "markdown",
   "metadata": {},
   "source": [
    "### b) Baseado na resposta da Amanda"
   ]
  },
  {
   "cell_type": "code",
   "execution_count": 120,
   "metadata": {},
   "outputs": [
    {
     "data": {
      "image/png": "[encoded data removed]",
      "text/plain": [
       "<Figure size 720x720 with 2 Axes>"
      ]
     },
     "metadata": {},
     "output_type": "display_data"
    }
   ],
   "source": [
    "from matplotlib.ticker import MultipleLocator\n",
    "\n",
    "\n",
    "time1 = np.arange(0,15,0.1)\n",
    "time2 = np.arange(0,500,10)\n",
    "\n",
    "plt.figure(facecolor = '#ffc125',figsize=(10,10))\n",
    "sp1 = plt.subplot(3,1,1)\n",
    "plt.plot(time1,np.sin(w1*time1),color='xkcd:azure')\n",
    "plt.errorbar(t1,b1,yerr=e1, fmt = 'ro')\n",
    "plt.grid(which='major',axis='x')\n",
    "plt.title('Binária eclipsante 1')\n",
    "plt.xlabel('tempo (em dias)')\n",
    "plt.ylabel('Brilho relativo')\n",
    "sp1.xaxis.set_major_locator(MultipleLocator(2*np.pi/w1))\n",
    "\n",
    "sp2 = plt.subplot(3,1,2)\n",
    "plt.plot(time2,np.sin(w2*time2),color='xkcd:salmon')\n",
    "plt.errorbar(t2,b2,yerr=e2, fmt='b^')\n",
    "plt.grid(which='major',axis='x')\n",
    "plt.title('Binária eclipsante 2')\n",
    "plt.xlabel('tempo (em dias)')\n",
    "plt.ylabel('Brilho relativo')\n",
    "sp2.xaxis.set_major_locator(MultipleLocator(2*np.pi/w2))\n",
    "plt.suptitle('BINÁRIAS ECLIPSANTES')\n",
    "\n",
    "plt.subplots_adjust(top=0.94)\n",
    "plt.tight_layout()\n",
    "\n",
    "plt.show()"
   ]
  },
  {
   "cell_type": "markdown",
   "metadata": {},
   "source": [
    "### c)"
   ]
  },
  {
   "cell_type": "code",
   "execution_count": 124,
   "metadata": {},
   "outputs": [
    {
     "data": {
      "application/vnd.jupyter.widget-view+json": {
       "model_id": "dfc8e727f14741399b2c59952bc78b41",
       "version_major": 2,
       "version_minor": 0
      },
      "text/plain": [
       "interactive(children=(FloatSlider(value=10.0, description='t', max=30.0, min=-10.0, step=0.5), Output()), _dom…"
      ]
     },
     "metadata": {},
     "output_type": "display_data"
    },
    {
     "data": {
      "application/vnd.jupyter.widget-view+json": {
       "model_id": "0bfa6fc0262b4798b03e9c825d6105ad",
       "version_major": 2,
       "version_minor": 0
      },
      "text/plain": [
       "interactive(children=(IntSlider(value=400, description='t', max=1000, min=-200, step=50), Output()), _dom_clas…"
      ]
     },
     "metadata": {},
     "output_type": "display_data"
    },
    {
     "data": {
      "text/plain": [
       "<function __main__.f2(t)>"
      ]
     },
     "execution_count": 124,
     "metadata": {},
     "output_type": "execute_result"
    }
   ],
   "source": [
    "def f1(t):\n",
    "    plot = plt.plot(time1,np.sin(w1*time1+t),color='steelblue')\n",
    "    plt.show()\n",
    "\n",
    "interact(f1,t=(-10,30,0.5))\n",
    "\n",
    "def f2(t):\n",
    "    plot = plt.plot(time2,np.sin(w2*time2+t),color='crimson')\n",
    "    plt.show()\n",
    "\n",
    "interact(f2,t=(-200,1000,50))"
   ]
  },
  {
   "cell_type": "markdown",
   "metadata": {},
   "source": [
    "## 2 questão"
   ]
  },
  {
   "cell_type": "markdown",
   "metadata": {},
   "source": [
    "### a)"
   ]
  },
  {
   "cell_type": "code",
   "execution_count": 19,
   "metadata": {},
   "outputs": [
    {
     "data": {
      "image/png": "[encoded data removed]",
      "text/plain": [
       "<Figure size 432x288 with 1 Axes>"
      ]
     },
     "metadata": {
      "needs_background": "light"
     },
     "output_type": "display_data"
    }
   ],
   "source": [
    "orbita = np.loadtxt(\"./orbita_de_um_asteroide.dat\")\n",
    "ang = orbita[:,0]\n",
    "rad = orbita[:,1]\n",
    "err = orbita[:,2]\n",
    "plt.polar(ang*np.pi/180,rad,'ro')\n",
    "plt.show()"
   ]
  },
  {
   "cell_type": "markdown",
   "metadata": {},
   "source": [
    "### b) Solução da Amanda e Theo"
   ]
  },
  {
   "cell_type": "code",
   "execution_count": 24,
   "metadata": {},
   "outputs": [
    {
     "name": "stderr",
     "output_type": "stream",
     "text": [
      "/usr/lib/python3/dist-packages/ipykernel_launcher.py:13: RuntimeWarning: invalid value encountered in sqrt\n",
      "  del sys.path[0]\n"
     ]
    },
    {
     "name": "stdout",
     "output_type": "stream",
     "text": [
      "a= 26.998400000000014\n",
      "b= 14.142399999999991\n"
     ]
    },
    {
     "data": {
      "image/png": "[encoded data removed]",
      "text/plain": [
       "<Figure size 432x288 with 1 Axes>"
      ]
     },
     "metadata": {
      "needs_background": "light"
     },
     "output_type": "display_data"
    },
    {
     "data": {
      "image/png": "[encoded data removed]",
      "text/plain": [
       "<Figure size 504x504 with 1 Axes>"
      ]
     },
     "metadata": {
      "needs_background": "light"
     },
     "output_type": "display_data"
    },
    {
     "data": {
      "image/png": "[encoded data removed]",
      "text/plain": [
       "<Figure size 504x504 with 1 Axes>"
      ]
     },
     "metadata": {
      "needs_background": "light"
     },
     "output_type": "display_data"
    }
   ],
   "source": [
    "a1 = 50\n",
    "a2 = 20\n",
    "a3 = 0\n",
    "b1 = 40\n",
    "b2 = 10\n",
    "b3 = 0\n",
    "while (2*abs((a1-a2)/(a1+a2))> 0.0005) and (2*abs((b1-b2)/(b1+b2))> 0.0005):\n",
    "    valores_aprox = []\n",
    "    valores_a = np.arange(a2,a1,(a1-a2)/10)\n",
    "    valores_b = np.arange(b2,b1,(b1-b2)/10)\n",
    "    for i in valores_a:\n",
    "        for j in valores_b:\n",
    "            e = np.sqrt(i**2-j**2)/i\n",
    "            aprox = sum(((rad - i*(1-e**2)/(1+e*np.cos(ang*np.pi/180)))/err)**2)\n",
    "            valores_aprox.append(aprox)\n",
    "    for i in range(10):\n",
    "        for j in range(10):\n",
    "            if valores_aprox[10*i+j] == min(valores_aprox):\n",
    "                a3 = valores_a[i]\n",
    "                a2 = valores_a[i-1]\n",
    "                a1 = valores_a[i+1]\n",
    "                b3 = valores_b[j]\n",
    "                b2 = valores_b[j-1]\n",
    "                b1 = valores_b[j+1]\n",
    "print('a=',a3)\n",
    "print('b=',b3)\n",
    "\n",
    "#7.c)\n",
    "\n",
    "def e(a,b):\n",
    "    return np.sqrt(a**2-b**2)/a \n",
    "angle = np.arange(0,2*np.pi,np.pi/180)\n",
    "plt.polar(angle,a3*(1-e(a3,b3)**2)/(1+e(a3,b3)*np.cos(angle)))\n",
    "plt.polar(ang*np.pi/180,rad,'b^')\n",
    "plt.show()\n",
    "\n",
    "#7.d)\n",
    "\n",
    "a3min = 0.85*a3\n",
    "a3max = 1.15*a3\n",
    "b3min = 0.85*b3\n",
    "b3max = 1.15*b3\n",
    "plt.figure(figsize=(7,7))\n",
    "plt.polar(angle,a3*(1-e(a3,b3)**2)/(1+e(a3,b3)*np.cos(angle)),color='darkorange')\n",
    "plt.polar(angle,a3min*(1-e(a3min,b3min)**2)/(1+e(a3min,b3min)*np.cos(angle)),color='crimson',alpha=0.5)\n",
    "plt.polar(angle,a3max*(1-e(a3max,b3max)**2)/(1+e(a3max,b3max)*np.cos(angle)),color='crimson',alpha=0.5)\n",
    "plt.fill_between(angle,a3min*(1-e(a3min,b3min)**2)/(1+e(a3min,b3min)*np.cos(angle)), a3max*(1-e(a3max,b3max)**2)/(1+e(a3max,b3max)*np.cos(angle)),color='plum',alpha=0.2)\n",
    "plt.show()\n",
    "\n",
    "#7.e)\n",
    "\n",
    "plt.rcParams['axes.facecolor'] = 'black'\n",
    "plt.figure(figsize=(7,7))\n",
    "plt.polar(angle,a3*(1-e(a3,b3)**2)/(1+e(a3,b3)*np.cos(angle)),color='aqua')\n",
    "plt.polar(0,0,'yo')\n",
    "plt.polar(angle,a3min*(1-e(a3min,b3min)**2)/(1+e(a3min,b3min)*np.cos(angle)),color='coral',alpha=0.5)\n",
    "plt.polar(angle,a3max*(1-e(a3max,b3max)**2)/(1+e(a3max,b3max)*np.cos(angle)),color='coral',alpha=0.5)\n",
    "plt.fill_between(angle,a3min*(1-e(a3min,b3min)**2)/(1+e(a3min,b3min)*np.cos(angle)), a3max*(1-e(a3max,b3max)**2)/(1+e(a3max,b3max)*np.cos(angle)),color='peachpuff',alpha=0.2)\n",
    "plt.show()"
   ]
  },
  {
   "cell_type": "markdown",
   "metadata": {},
   "source": [
    "# Lista 4"
   ]
  },
  {
   "cell_type": "markdown",
   "metadata": {},
   "source": [
    "## 1) Solução da Mariana e Laíza"
   ]
  },
  {
   "cell_type": "markdown",
   "metadata": {},
   "source": [
    "1° - Carregar o arquivo de cada estrela em um array de três dimensões (3 colunas, comprimento de onda, radiância, erro da radiância)"
   ]
  },
  {
   "cell_type": "code",
   "execution_count": 26,
   "metadata": {},
   "outputs": [],
   "source": [
    "arquivo = np.array([np.loadtxt(\"estrela_\"+str(i)+\".txt\") for i in range(1,101)])\n",
    "        \n",
    "arquivo_comp, arquivo_rad, arquivo_errad = arquivo.T"
   ]
  },
  {
   "cell_type": "markdown",
   "metadata": {},
   "source": [
    "2° - Estabelecer funções que serão necessárias para a letra b), na qual é necessário determinar a temperatura por meio da Lei de Planck."
   ]
  },
  {
   "cell_type": "code",
   "execution_count": 28,
   "metadata": {},
   "outputs": [],
   "source": [
    "h=np.float(6.62607015*10**(-34))\n",
    "c=np.float(299792458)\n",
    "e=np.exp(1)\n",
    "k=np.float(1.380649*10**(-23))\n",
    "temps = np.zeros([100,2])\n",
    "def radi(arquivo_comp: float, T: float):\n",
    "\treturn ((2*h*(c**2))/(arquivo_comp **5))*(1/(np.exp(1)**((h*c)/(arquivo_comp *k*T))-1))\n",
    "def chiquadrado(pontos: np.ndarray, T: float):\n",
    "\tx,y,e= pontos.T\n",
    "\treturn np.sum(np.power((y-radi(x,T))/e,2))\n",
    "def melhor_valor(estrela: int, min_i=1000, max_i=50000):\n",
    "\tmin_chi= float('inf')\n",
    "\ttemp=0\n",
    "\tmin_t,max_t=min_i,max_i\n",
    "\twhile True:\n",
    "\t\tts=[round(i,0) for i in np.linspace(min_t, max_t,20)]\n",
    "\t\tchi=min_chi\n",
    "\t\tfor t in ts:\n",
    "\t\t\te= chiquadrado(arquivo[estrela-1],t)\n",
    "\t\t\tif e<min_chi:\n",
    "\t\t\t\tmin_chi, temp= e,t\n",
    "\t\tif min_chi == chi or min_chi <1.0e-5:\n",
    "\t\t\tbreak\n",
    "\t\tmin_t=ts[list(ts).index(temp)-1]\n",
    "\t\tif min_t ==ts[-1]:\n",
    "\t\t\tmin_t=ts[0]\n",
    "\t\tmax_t=ts[list(ts).index(temp)+1]\n",
    "\treturn temp"
   ]
  },
  {
   "cell_type": "markdown",
   "metadata": {},
   "source": [
    "3° - Estabelecer funções referentes à classificação espectral de uma estrela (OBAFGKM) em vista da temperatura encontrada (desconsiderando T<2000K) e referentes ao calculo da temperatura pela lei de Planck. (d)"
   ]
  },
  {
   "cell_type": "code",
   "execution_count": 29,
   "metadata": {},
   "outputs": [
    {
     "name": "stdout",
     "output_type": "stream",
     "text": [
      "Tempo total: 1.254493236541748\n",
      "{'estrela': 1, 'tS': 0.007353067398071289, 'tK': 3579.0, 'tipo': 'M'}\n",
      "{'estrela': 2, 'tS': 0.012489795684814453, 'tK': 8845.0, 'tipo': 'A'}\n",
      "{'estrela': 3, 'tS': 0.014595985412597656, 'tK': 2692.0, 'tipo': 'M'}\n",
      "{'estrela': 4, 'tS': 0.005965471267700195, 'tK': 3579.0, 'tipo': 'M'}\n",
      "{'estrela': 5, 'tS': 0.014624595642089844, 'tK': 5631.0, 'tipo': 'G'}\n",
      "{'estrela': 6, 'tS': 0.014536380767822266, 'tK': 9933.0, 'tipo': 'A'}\n",
      "{'estrela': 7, 'tS': 0.009081840515136719, 'tK': 10637.0, 'tipo': 'B'}\n",
      "{'estrela': 8, 'tS': 0.011403322219848633, 'tK': 4568.0, 'tipo': 'K'}\n",
      "{'estrela': 9, 'tS': 0.01439666748046875, 'tK': 5791.0, 'tipo': 'G'}\n",
      "{'estrela': 10, 'tS': 0.014433860778808594, 'tK': 9424.0, 'tipo': 'A'}\n",
      "{'estrela': 11, 'tS': 0.011434793472290039, 'tK': 2404.0, 'tipo': 'M'}\n",
      "{'estrela': 12, 'tS': 0.01177978515625, 'tK': 2428.0, 'tipo': 'M'}\n",
      "{'estrela': 13, 'tS': 0.014376640319824219, 'tK': 8262.0, 'tipo': 'A'}\n",
      "{'estrela': 14, 'tS': 0.01487421989440918, 'tK': 3128.0, 'tipo': 'M'}\n",
      "{'estrela': 15, 'tS': 0.011322736740112305, 'tK': 7543.0, 'tipo': 'A'}\n",
      "{'estrela': 16, 'tS': 0.014379262924194336, 'tK': 4140.0, 'tipo': 'K'}\n",
      "{'estrela': 17, 'tS': 0.011534690856933594, 'tK': 2878.0, 'tipo': 'M'}\n",
      "{'estrela': 18, 'tS': 0.014575719833374023, 'tK': 10205.0, 'tipo': 'B'}\n",
      "{'estrela': 19, 'tS': 0.014429569244384766, 'tK': 9381.0, 'tipo': 'A'}\n",
      "{'estrela': 20, 'tS': 0.011538028717041016, 'tK': 5397.0, 'tipo': 'G'}\n",
      "{'estrela': 21, 'tS': 0.011481761932373047, 'tK': 5381.0, 'tipo': 'G'}\n",
      "{'estrela': 22, 'tS': 0.01453399658203125, 'tK': 7429.0, 'tipo': 'F'}\n",
      "{'estrela': 23, 'tS': 0.011604547500610352, 'tK': 2618.0, 'tipo': 'M'}\n",
      "{'estrela': 24, 'tS': 0.01484370231628418, 'tK': 6075.0, 'tipo': 'F'}\n",
      "{'estrela': 25, 'tS': 0.011970758438110352, 'tK': 4029.0, 'tipo': 'K'}\n",
      "{'estrela': 26, 'tS': 0.016600847244262695, 'tK': 9484.0, 'tipo': 'A'}\n",
      "{'estrela': 27, 'tS': 0.013606786727905273, 'tK': 6509.0, 'tipo': 'F'}\n",
      "{'estrela': 28, 'tS': 0.016372203826904297, 'tK': 7716.0, 'tipo': 'A'}\n",
      "{'estrela': 29, 'tS': 0.012835502624511719, 'tK': 5690.0, 'tipo': 'G'}\n",
      "{'estrela': 30, 'tS': 0.012269973754882812, 'tK': 9531.0, 'tipo': 'A'}\n",
      "{'estrela': 31, 'tS': 0.011640310287475586, 'tK': 2310.0, 'tipo': 'M'}\n",
      "{'estrela': 32, 'tS': 0.01161813735961914, 'tK': 2560.0, 'tipo': 'M'}\n",
      "{'estrela': 33, 'tS': 0.014517068862915039, 'tK': 3284.0, 'tipo': 'M'}\n",
      "{'estrela': 34, 'tS': 0.014553308486938477, 'tK': 5316.0, 'tipo': 'G'}\n",
      "{'estrela': 35, 'tS': 0.005945682525634766, 'tK': 3579.0, 'tipo': 'M'}\n",
      "{'estrela': 36, 'tS': 0.014373064041137695, 'tK': 8618.0, 'tipo': 'A'}\n",
      "{'estrela': 37, 'tS': 0.014502525329589844, 'tK': 6716.0, 'tipo': 'F'}\n",
      "{'estrela': 38, 'tS': 0.011540889739990234, 'tK': 9001.0, 'tipo': 'A'}\n",
      "{'estrela': 39, 'tS': 0.014479398727416992, 'tK': 10141.0, 'tipo': 'B'}\n",
      "{'estrela': 40, 'tS': 0.014481067657470703, 'tK': 10203.0, 'tipo': 'B'}\n",
      "{'estrela': 41, 'tS': 0.011698722839355469, 'tK': 6284.0, 'tipo': 'F'}\n",
      "{'estrela': 42, 'tS': 0.011495828628540039, 'tK': 7487.0, 'tipo': 'F'}\n",
      "{'estrela': 43, 'tS': 0.014641284942626953, 'tK': 9918.0, 'tipo': 'A'}\n",
      "{'estrela': 44, 'tS': 0.014298677444458008, 'tK': 10814.0, 'tipo': 'B'}\n",
      "{'estrela': 45, 'tS': 0.014099597930908203, 'tK': 6579.0, 'tipo': 'F'}\n",
      "{'estrela': 46, 'tS': 0.010917901992797852, 'tK': 7275.0, 'tipo': 'F'}\n",
      "{'estrela': 47, 'tS': 0.008649587631225586, 'tK': 9016.0, 'tipo': 'A'}\n",
      "{'estrela': 48, 'tS': 0.008503198623657227, 'tK': 3986.0, 'tipo': 'K'}\n",
      "{'estrela': 49, 'tS': 0.008604049682617188, 'tK': 8473.0, 'tipo': 'A'}\n",
      "{'estrela': 50, 'tS': 0.011342048645019531, 'tK': 3822.0, 'tipo': 'K'}\n",
      "{'estrela': 51, 'tS': 0.014435291290283203, 'tK': 4817.0, 'tipo': 'K'}\n",
      "{'estrela': 52, 'tS': 0.011376380920410156, 'tK': 7156.0, 'tipo': 'F'}\n",
      "{'estrela': 53, 'tS': 0.011488914489746094, 'tK': 3357.0, 'tipo': 'M'}\n",
      "{'estrela': 54, 'tS': 0.005907535552978516, 'tK': 10366.0, 'tipo': 'B'}\n",
      "{'estrela': 55, 'tS': 0.0056684017181396484, 'tK': 3579.0, 'tipo': 'M'}\n",
      "{'estrela': 56, 'tS': 0.014186382293701172, 'tK': 3823.0, 'tipo': 'K'}\n",
      "{'estrela': 57, 'tS': 0.014567375183105469, 'tK': 5220.0, 'tipo': 'G'}\n",
      "{'estrela': 58, 'tS': 0.014211893081665039, 'tK': 10169.0, 'tipo': 'B'}\n",
      "{'estrela': 59, 'tS': 0.011312484741210938, 'tK': 9195.0, 'tipo': 'A'}\n",
      "{'estrela': 60, 'tS': 0.014497756958007812, 'tK': 10805.0, 'tipo': 'B'}\n",
      "{'estrela': 61, 'tS': 0.014712095260620117, 'tK': 3260.0, 'tipo': 'M'}\n",
      "{'estrela': 62, 'tS': 0.01141047477722168, 'tK': 3479.0, 'tipo': 'M'}\n",
      "{'estrela': 63, 'tS': 0.014452934265136719, 'tK': 9483.0, 'tipo': 'A'}\n",
      "{'estrela': 64, 'tS': 0.014344453811645508, 'tK': 8824.0, 'tipo': 'A'}\n",
      "{'estrela': 65, 'tS': 0.014319658279418945, 'tK': 7330.0, 'tipo': 'F'}\n",
      "{'estrela': 66, 'tS': 0.014313697814941406, 'tK': 4354.0, 'tipo': 'K'}\n",
      "{'estrela': 67, 'tS': 0.014515876770019531, 'tK': 8350.0, 'tipo': 'A'}\n",
      "{'estrela': 68, 'tS': 0.01450657844543457, 'tK': 7550.0, 'tipo': 'A'}\n",
      "{'estrela': 69, 'tS': 0.014509916305541992, 'tK': 6510.0, 'tipo': 'F'}\n",
      "{'estrela': 70, 'tS': 0.014337778091430664, 'tK': 10121.0, 'tipo': 'B'}\n",
      "{'estrela': 71, 'tS': 0.014420032501220703, 'tK': 6602.0, 'tipo': 'F'}\n",
      "{'estrela': 72, 'tS': 0.011473655700683594, 'tK': 3358.0, 'tipo': 'M'}\n",
      "{'estrela': 73, 'tS': 0.011349678039550781, 'tK': 7162.0, 'tipo': 'F'}\n",
      "{'estrela': 74, 'tS': 0.014479637145996094, 'tK': 7967.0, 'tipo': 'A'}\n",
      "{'estrela': 75, 'tS': 0.014627933502197266, 'tK': 6650.0, 'tipo': 'F'}\n",
      "{'estrela': 76, 'tS': 0.014318466186523438, 'tK': 6417.0, 'tipo': 'F'}\n",
      "{'estrela': 77, 'tS': 0.014408111572265625, 'tK': 7085.0, 'tipo': 'F'}\n",
      "{'estrela': 78, 'tS': 0.014439821243286133, 'tK': 7848.0, 'tipo': 'A'}\n",
      "{'estrela': 79, 'tS': 0.011547327041625977, 'tK': 6450.0, 'tipo': 'F'}\n",
      "{'estrela': 80, 'tS': 0.014321327209472656, 'tK': 10840.0, 'tipo': 'B'}\n",
      "{'estrela': 81, 'tS': 0.005815982818603516, 'tK': 16474.0, 'tipo': 'B'}\n",
      "{'estrela': 82, 'tS': 0.014413595199584961, 'tK': 11041.0, 'tipo': 'B'}\n",
      "{'estrela': 83, 'tS': 0.014416694641113281, 'tK': 20023.0, 'tipo': 'B'}\n",
      "{'estrela': 84, 'tS': 0.011750221252441406, 'tK': 16702.0, 'tipo': 'B'}\n",
      "{'estrela': 85, 'tS': 0.014420032501220703, 'tK': 19912.0, 'tipo': 'B'}\n",
      "{'estrela': 86, 'tS': 0.011720895767211914, 'tK': 25697.0, 'tipo': 'B'}\n",
      "{'estrela': 87, 'tS': 0.011577367782592773, 'tK': 15460.0, 'tipo': 'B'}\n",
      "{'estrela': 88, 'tS': 0.005915403366088867, 'tK': 21632.0, 'tipo': 'B'}\n",
      "{'estrela': 89, 'tS': 0.011696577072143555, 'tK': 23168.0, 'tipo': 'B'}\n",
      "{'estrela': 90, 'tS': 0.014557123184204102, 'tK': 23026.0, 'tipo': 'B'}\n",
      "{'estrela': 91, 'tS': 0.011693000793457031, 'tK': 23510.0, 'tipo': 'B'}\n",
      "{'estrela': 92, 'tS': 0.011374950408935547, 'tK': 27660.0, 'tipo': 'B'}\n",
      "{'estrela': 93, 'tS': 0.00915837287902832, 'tK': 18103.0, 'tipo': 'B'}\n",
      "{'estrela': 94, 'tS': 0.011631250381469727, 'tK': 27239.0, 'tipo': 'B'}\n",
      "{'estrela': 95, 'tS': 0.005865573883056641, 'tK': 13895.0, 'tipo': 'B'}\n",
      "{'estrela': 96, 'tS': 0.011616706848144531, 'tK': 25798.0, 'tipo': 'B'}\n",
      "{'estrela': 97, 'tS': 0.011244535446166992, 'tK': 20313.0, 'tipo': 'B'}\n",
      "{'estrela': 98, 'tS': 0.014551162719726562, 'tK': 19352.0, 'tipo': 'B'}\n",
      "{'estrela': 99, 'tS': 0.014698266983032227, 'tK': 15960.0, 'tipo': 'B'}\n",
      "{'estrela': 100, 'tS': 0.014465808868408203, 'tK': 23396.0, 'tipo': 'B'}\n"
     ]
    }
   ],
   "source": [
    "def classif(T):\n",
    "    if T >= 33000:\n",
    "        return 'O'\n",
    "    elif T >= 10000:\n",
    "        return 'B'\n",
    "    elif T >= 7500:\n",
    "        return 'A'\n",
    "    elif T >= 6000:\n",
    "        return 'F'\n",
    "    elif T >= 5200:\n",
    "        return 'G'\n",
    "    elif T >= 3700:\n",
    "        return 'K'\n",
    "    else:\n",
    "        return 'M'\n",
    "\n",
    "ti = time.time()\n",
    "tempos = []\n",
    "for d in range(1, 101):\n",
    "    i = time.time()\n",
    "    t = melhor_valor(d)\n",
    "    cl = classif(t)\n",
    "    tempos.append({'estrela': d, 'tS': time.time()-i, 'tK': t, 'tipo': cl})\n",
    "print(f'Tempo total: {time.time()-ti}')\n",
    "for s in tempos:\n",
    "    print(s)"
   ]
  },
  {
   "cell_type": "markdown",
   "metadata": {},
   "source": [
    "4°- Estabelecer funções para o cálculo da temperatura por meio da Lei de Wien e posteriormente, calculá-la."
   ]
  },
  {
   "cell_type": "code",
   "execution_count": 30,
   "metadata": {},
   "outputs": [],
   "source": [
    "def wien(pontos):\n",
    "    c, r, e = pontos.T\n",
    "    pico = c[r.argmax()]\n",
    "    return 0.0028976 / pico"
   ]
  },
  {
   "cell_type": "code",
   "execution_count": 31,
   "metadata": {},
   "outputs": [
    {
     "name": "stdout",
     "output_type": "stream",
     "text": [
      "{'estrela': 1, 'temp': 3525.0608272506056}\n",
      "{'estrela': 2, 'temp': 8834.14634146341}\n",
      "{'estrela': 3, 'temp': 2692.9368029739753}\n",
      "{'estrela': 4, 'temp': 3533.6585365853634}\n",
      "{'estrela': 5, 'temp': 5637.354085603109}\n",
      "{'estrela': 6, 'temp': 9923.287671232873}\n",
      "{'estrela': 7, 'temp': 10652.941176470586}\n",
      "{'estrela': 8, 'temp': 4570.347003154571}\n",
      "{'estrela': 9, 'temp': 5795.199999999997}\n",
      "{'estrela': 10, 'temp': 9407.792207792203}\n",
      "{'estrela': 11, 'temp': 2402.6533996683233}\n",
      "{'estrela': 12, 'temp': 2426.8006700167484}\n",
      "{'estrela': 13, 'temp': 8278.85714285714}\n",
      "{'estrela': 14, 'temp': 3129.1576673866066}\n",
      "{'estrela': 15, 'temp': 7545.833333333329}\n",
      "{'estrela': 16, 'temp': 4139.428571428569}\n",
      "{'estrela': 17, 'temp': 2880.31809145129}\n",
      "{'estrela': 18, 'temp': 10202.816901408445}\n",
      "{'estrela': 19, 'temp': 9407.792207792203}\n",
      "{'estrela': 20, 'temp': 5405.970149253728}\n",
      "{'estrela': 21, 'temp': 5385.873605947952}\n",
      "{'estrela': 22, 'temp': 7429.743589743585}\n",
      "{'estrela': 23, 'temp': 2619.891500904157}\n",
      "{'estrela': 24, 'temp': 6061.924686192465}\n",
      "{'estrela': 25, 'temp': 4024.4444444444416}\n",
      "{'estrela': 26, 'temp': 9469.28104575163}\n",
      "{'estrela': 27, 'temp': 6496.860986547082}\n",
      "{'estrela': 28, 'temp': 7706.3829787234}\n",
      "{'estrela': 29, 'temp': 5681.568627450977}\n",
      "{'estrela': 30, 'temp': 9531.578947368416}\n",
      "{'estrela': 31, 'temp': 2310.685805422646}\n",
      "{'estrela': 32, 'temp': 2559.7173144876306}\n",
      "{'estrela': 33, 'temp': 3285.260770975054}\n",
      "{'estrela': 34, 'temp': 5306.959706959704}\n",
      "{'estrela': 35, 'temp': 3550.98039215686}\n",
      "{'estrela': 36, 'temp': 8623.80952380952}\n",
      "{'estrela': 37, 'temp': 6707.407407407403}\n",
      "{'estrela': 38, 'temp': 8998.75776397515}\n",
      "{'estrela': 39, 'temp': 10131.468531468527}\n",
      "{'estrela': 40, 'temp': 10202.816901408445}\n",
      "{'estrela': 41, 'temp': 6271.861471861468}\n",
      "{'estrela': 42, 'temp': 7468.041237113398}\n",
      "{'estrela': 43, 'temp': 9923.287671232873}\n",
      "{'estrela': 44, 'temp': 10811.940298507458}\n",
      "{'estrela': 45, 'temp': 6585.454545454541}\n",
      "{'estrela': 46, 'temp': 7280.402010050247}\n",
      "{'estrela': 47, 'temp': 8998.75776397515}\n",
      "{'estrela': 48, 'temp': 3991.184573002752}\n",
      "{'estrela': 49, 'temp': 8472.514619883037}\n",
      "{'estrela': 50, 'temp': 3822.691292875987}\n",
      "{'estrela': 51, 'temp': 4813.2890365448475}\n",
      "{'estrela': 52, 'temp': 7172.277227722769}\n",
      "{'estrela': 53, 'temp': 3353.703703703701}\n",
      "{'estrela': 54, 'temp': 10348.571428571424}\n",
      "{'estrela': 55, 'temp': 3621.9999999999977}\n",
      "{'estrela': 56, 'temp': 3822.691292875987}\n",
      "{'estrela': 57, 'temp': 5211.5107913669035}\n",
      "{'estrela': 58, 'temp': 10202.816901408445}\n",
      "{'estrela': 59, 'temp': 9169.620253164552}\n",
      "{'estrela': 60, 'temp': 10811.940298507458}\n",
      "{'estrela': 61, 'temp': 3263.063063063061}\n",
      "{'estrela': 62, 'temp': 3482.692307692305}\n",
      "{'estrela': 63, 'temp': 9469.28104575163}\n",
      "{'estrela': 64, 'temp': 8834.14634146341}\n",
      "{'estrela': 65, 'temp': 7317.171717171713}\n",
      "{'estrela': 66, 'temp': 4350.750750750748}\n",
      "{'estrela': 67, 'temp': 8326.43678160919}\n",
      "{'estrela': 68, 'temp': 7545.833333333329}\n",
      "{'estrela': 69, 'temp': 6496.860986547082}\n",
      "{'estrela': 70, 'temp': 10131.468531468527}\n",
      "{'estrela': 71, 'temp': 6615.525114155247}\n",
      "{'estrela': 72, 'temp': 3361.484918793501}\n",
      "{'estrela': 73, 'temp': 7172.277227722769}\n",
      "{'estrela': 74, 'temp': 7960.439560439557}\n",
      "{'estrela': 75, 'temp': 6645.871559633024}\n",
      "{'estrela': 76, 'temp': 6410.619469026545}\n",
      "{'estrela': 77, 'temp': 7067.317073170728}\n",
      "{'estrela': 78, 'temp': 7831.351351351347}\n",
      "{'estrela': 79, 'temp': 6439.111111111108}\n",
      "{'estrela': 80, 'temp': 10811.940298507458}\n",
      "{'estrela': 81, 'temp': 16463.636363636357}\n",
      "{'estrela': 82, 'temp': 11059.541984732821}\n",
      "{'estrela': 83, 'temp': 20122.222222222215}\n",
      "{'estrela': 84, 'temp': 16652.873563218385}\n",
      "{'estrela': 85, 'temp': 19846.57534246575}\n",
      "{'estrela': 86, 'temp': 25871.42857142857}\n",
      "{'estrela': 87, 'temp': 15412.765957446802}\n",
      "{'estrela': 88, 'temp': 21623.880597014922}\n",
      "{'estrela': 89, 'temp': 22996.825396825396}\n",
      "{'estrela': 90, 'temp': 22996.825396825396}\n",
      "{'estrela': 91, 'temp': 23367.741935483868}\n",
      "{'estrela': 92, 'temp': 27861.53846153846}\n",
      "{'estrela': 93, 'temp': 18109.999999999996}\n",
      "{'estrela': 94, 'temp': 27335.849056603773}\n",
      "{'estrela': 95, 'temp': 13798.095238095231}\n",
      "{'estrela': 96, 'temp': 25871.42857142857}\n",
      "{'estrela': 97, 'temp': 20405.633802816894}\n",
      "{'estrela': 98, 'temp': 19317.33333333333}\n",
      "{'estrela': 99, 'temp': 15920.879120879115}\n",
      "{'estrela': 100, 'temp': 23367.741935483868}\n"
     ]
    }
   ],
   "source": [
    "star = []\n",
    "for e in range(1, 101):\n",
    "    star.append({'estrela': e, 'temp': wien(arquivo[e-1])})\n",
    "    print(star[e-1])"
   ]
  },
  {
   "cell_type": "markdown",
   "metadata": {},
   "source": [
    "5° - Criando o arquivo para o cálculo de temperatura de uma estrela e importando argparse."
   ]
  },
  {
   "cell_type": "code",
   "execution_count": 34,
   "metadata": {},
   "outputs": [
    {
     "name": "stdout",
     "output_type": "stream",
     "text": [
      "Overwriting estrelas.py\n"
     ]
    }
   ],
   "source": [
    "%%writefile estrelas.py\n",
    "import numpy as np\n",
    "import time\n",
    "import argparse\n",
    "\n",
    "parser = argparse.ArgumentParser(description='Código que calcula a temperatura da estrela passada para o código')\n",
    "\n",
    "parser.add_argument('-e', '--estrela', type=int, help='Número da estrela')\n",
    "args = parser.parse_args()\n",
    "\n",
    "comp, rad, erro = np.loadtxt(f'./estrelas/estrela_{args.estrela}.txt').T\n",
    "\n",
    "h = 6.62607015e-34\n",
    "c = 299792458\n",
    "k = 1.380649e-23\n",
    "\n",
    "with open('./tempos.txt', 'a+') as tempos:\n",
    "    i = time.time()\n",
    "    minchi = float('inf')\n",
    "    temp = 0\n",
    "    mint, maxt = 1000, 50000\n",
    "    while True:\n",
    "        ts = [round(i,0) for i in np.linspace(mint,maxt, 20)]\n",
    "        chi = minchi\n",
    "        for t in ts:\n",
    "            e = np.sum(np.power((rad - (((2 * h * (c ** 2))/(comp ** 5)) * (1 / (np.exp(1) ** ((h * c) / (comp * k * t)) - 1)))) / erro, 2))\n",
    "            if e < minchi:\n",
    "                minchi, temp = e, t\n",
    "        if minchi == chi or minchi < 1.0e-5:\n",
    "            break\n",
    "        mint = ts[list(ts).index(temp)-1]\n",
    "        if mint == ts[-1]:\n",
    "            mint = ts[0]\n",
    "        maxt = ts[list(ts).index(temp)+1]\n",
    "    f = time.time()\n",
    "    linha = f'estrela: {args.estrela}, temperatura: {temp}, tempo: {f-i}\\n'\n",
    "    print(linha[:-2])\n",
    "    tempos.write(linha)\n"
   ]
  },
  {
   "cell_type": "markdown",
   "metadata": {},
   "source": [
    "6° - Executando em paralelo o cálculo da temperatura de cada estrela por meio do parallel. (e)\n",
    "\n",
    "Um pouco modificado do código da Mariana e Laíza"
   ]
  },
  {
   "cell_type": "code",
   "execution_count": 39,
   "metadata": {},
   "outputs": [
    {
     "name": "stdout",
     "output_type": "stream",
     "text": [
      "Iniciando análise de dados das estrelas...\n",
      "estrela: 1, temperatura: 3579.0, tempo: 0.005768060684204101\n",
      "estrela: 4, temperatura: 3579.0, tempo: 0.00601673126220703\n",
      "estrela: 3, temperatura: 2692.0, tempo: 0.01507973670959472\n",
      "estrela: 2, temperatura: 8845.0, tempo: 0.01540327072143554\n",
      "estrela: 6, temperatura: 9933.0, tempo: 0.023452997207641\n",
      "estrela: 5, temperatura: 5631.0, tempo: 0.0143599510192871\n",
      "estrela: 8, temperatura: 4568.0, tempo: 0.01260614395141601\n",
      "estrela: 7, temperatura: 10637.0, tempo: 0.01282715797424316\n",
      "estrela: 10, temperatura: 9424.0, tempo: 0.0169799327850341\n",
      "estrela: 9, temperatura: 5791.0, tempo: 0.0677261352539062\n",
      "estrela: 11, temperatura: 2404.0, tempo: 0.0210587978363037\n",
      "estrela: 12, temperatura: 2428.0, tempo: 0.0160293579101562\n",
      "estrela: 14, temperatura: 3128.0, tempo: 0.0212934017181396\n",
      "estrela: 13, temperatura: 8262.0, tempo: 0.0429399013519287\n",
      "estrela: 15, temperatura: 7543.0, tempo: 0.02083015441894531\n",
      "estrela: 16, temperatura: 4140.0, tempo: 0.0529599189758300\n",
      "estrela: 17, temperatura: 2878.0, tempo: 0.01615548133850097\n",
      "estrela: 18, temperatura: 10205.0, tempo: 0.022964239120483\n",
      "estrela: 19, temperatura: 9381.0, tempo: 0.02300024032592773\n",
      "estrela: 20, temperatura: 5397.0, tempo: 0.02607464790344238\n",
      "estrela: 21, temperatura: 5381.0, tempo: 0.0171556472778320\n",
      "estrela: 22, temperatura: 7429.0, tempo: 0.02053713798522949\n",
      "estrela: 24, temperatura: 6075.0, tempo: 0.0203139781951904\n",
      "estrela: 23, temperatura: 2618.0, tempo: 0.01534676551818847\n",
      "estrela: 25, temperatura: 4029.0, tempo: 0.041610717773437\n",
      "estrela: 27, temperatura: 6509.0, tempo: 0.0124192237854003\n",
      "estrela: 26, temperatura: 9484.0, tempo: 0.0206894874572753\n",
      "estrela: 28, temperatura: 7716.0, tempo: 0.02217006683349609\n",
      "estrela: 29, temperatura: 5690.0, tempo: 0.02416610717773437\n",
      "estrela: 30, temperatura: 9531.0, tempo: 0.01678991317749023\n",
      "estrela: 31, temperatura: 2310.0, tempo: 0.01276469230651855\n",
      "estrela: 32, temperatura: 2560.0, tempo: 0.02861976623535156\n",
      "estrela: 33, temperatura: 3284.0, tempo: 0.02074050903320312\n",
      "estrela: 35, temperatura: 3579.0, tempo: 0.006570816040039062\n",
      "estrela: 34, temperatura: 5316.0, tempo: 0.01700377464294433\n",
      "estrela: 36, temperatura: 8618.0, tempo: 0.0216157436370849\n",
      "estrela: 37, temperatura: 6716.0, tempo: 0.01709985733032226\n",
      "estrela: 38, temperatura: 9001.0, tempo: 0.01254749298095703\n",
      "estrela: 39, temperatura: 10141.0, tempo: 0.02446532249450683\n",
      "estrela: 40, temperatura: 10203.0, tempo: 0.02080941200256347\n",
      "estrela: 42, temperatura: 7487.0, tempo: 0.01657152175903320\n",
      "estrela: 41, temperatura: 6284.0, tempo: 0.0194792747497558\n",
      "estrela: 43, temperatura: 9918.0, tempo: 0.02365517616271972\n",
      "estrela: 44, temperatura: 10814.0, tempo: 0.01704359054565429\n",
      "estrela: 46, temperatura: 7275.0, tempo: 0.0165467262268066\n",
      "estrela: 45, temperatura: 6579.0, tempo: 0.0264208316802978\n",
      "estrela: 47, temperatura: 9016.0, tempo: 0.01219367980957031\n",
      "estrela: 48, temperatura: 3986.0, tempo: 0.014297485351562\n",
      "estrela: 50, temperatura: 3822.0, tempo: 0.01568388938903808\n",
      "estrela: 49, temperatura: 8473.0, tempo: 0.01781249046325683\n",
      "estrela: 51, temperatura: 4817.0, tempo: 0.0204343795776367\n",
      "estrela: 52, temperatura: 7156.0, tempo: 0.0213012695312\n",
      "estrela: 53, temperatura: 3357.0, tempo: 0.01491475105285644\n",
      "estrela: 54, temperatura: 10366.0, tempo: 0.00681066513061523\n",
      "estrela: 55, temperatura: 3579.0, tempo: 0.00842094421386718\n",
      "estrela: 56, temperatura: 3823.0, tempo: 0.01938509941101074\n",
      "estrela: 57, temperatura: 5220.0, tempo: 0.01956677436828613\n",
      "estrela: 58, temperatura: 10169.0, tempo: 0.023346185684204\n",
      "estrela: 60, temperatura: 10805.0, tempo: 0.02167129516601562\n",
      "estrela: 59, temperatura: 9195.0, tempo: 0.0118820667266845\n",
      "estrela: 61, temperatura: 3260.0, tempo: 0.02069783210754394\n",
      "estrela: 62, temperatura: 3479.0, tempo: 0.0380463600158691\n",
      "estrela: 63, temperatura: 9483.0, tempo: 0.0430018901824951\n",
      "estrela: 64, temperatura: 8824.0, tempo: 0.0319092273712158\n",
      "estrela: 66, temperatura: 4354.0, tempo: 0.01569104194641113\n",
      "estrela: 65, temperatura: 7330.0, tempo: 0.0225691795349121\n",
      "estrela: 68, temperatura: 7550.0, tempo: 0.0444293022155761\n",
      "estrela: 69, temperatura: 6510.0, tempo: 0.0214860439300537\n",
      "estrela: 67, temperatura: 8350.0, tempo: 0.0217363834381103\n",
      "estrela: 70, temperatura: 10121.0, tempo: 0.01809310913085937\n",
      "estrela: 71, temperatura: 6602.0, tempo: 0.01555609703063964\n",
      "estrela: 73, temperatura: 7162.0, tempo: 0.01961779594421386\n",
      "estrela: 72, temperatura: 3358.0, tempo: 0.0387799739837646\n",
      "estrela: 74, temperatura: 7967.0, tempo: 0.02163195610046386\n",
      "estrela: 75, temperatura: 6650.0, tempo: 0.01877069473266601\n",
      "estrela: 76, temperatura: 6417.0, tempo: 0.016479730606079\n",
      "estrela: 77, temperatura: 7085.0, tempo: 0.020965337753295\n",
      "estrela: 78, temperatura: 7848.0, tempo: 0.01834487915039062\n",
      "estrela: 80, temperatura: 10840.0, tempo: 0.0229673385620117\n",
      "estrela: 79, temperatura: 6450.0, tempo: 0.0168960094451904\n",
      "estrela: 81, temperatura: 16474.0, tempo: 0.00972533226013183\n",
      "estrela: 82, temperatura: 11041.0, tempo: 0.020446538925170\n",
      "estrela: 83, temperatura: 20023.0, tempo: 0.0207033157348632\n",
      "estrela: 84, temperatura: 16702.0, tempo: 0.05112528800964355\n",
      "estrela: 85, temperatura: 19912.0, tempo: 0.01930594444274902\n",
      "estrela: 86, temperatura: 25697.0, tempo: 0.0166730880737304\n",
      "estrela: 88, temperatura: 21632.0, tempo: 0.00579118728637695\n",
      "estrela: 87, temperatura: 15460.0, tempo: 0.01712870597839355\n",
      "estrela: 89, temperatura: 23168.0, tempo: 0.01719784736633300\n",
      "estrela: 90, temperatura: 23026.0, tempo: 0.02117586135864257\n",
      "estrela: 91, temperatura: 23510.0, tempo: 0.019790649414062\n",
      "estrela: 92, temperatura: 27660.0, tempo: 0.03764891624450683\n",
      "estrela: 94, temperatura: 27239.0, tempo: 0.0165205001831054\n",
      "estrela: 93, temperatura: 18103.0, tempo: 0.02666592597961425\n",
      "estrela: 95, temperatura: 13895.0, tempo: 0.00834918022155761\n",
      "estrela: 96, temperatura: 25798.0, tempo: 0.01729011535644531\n",
      "estrela: 97, temperatura: 20313.0, tempo: 0.01681184768676757\n",
      "estrela: 98, temperatura: 19352.0, tempo: 0.02377963066101074\n",
      "estrela: 100, temperatura: 23396.0, tempo: 0.01465725898742675\n",
      "estrela: 99, temperatura: 15960.0, tempo: 0.02072858810424804\n",
      "Análise finalizada. \n",
      "Tempo total: 5.582975625991821\n"
     ]
    }
   ],
   "source": [
    "ini = time.time()\n",
    "print('Iniciando análise de dados das estrelas...')\n",
    "!parallel -j 4 python3 estrelas.py -e -- $(seq 100)\n",
    "print('Análise finalizada. \\nTempo total:', time.time()-ini)"
   ]
  },
  {
   "cell_type": "markdown",
   "metadata": {},
   "source": [
    "7° - Paralelizando por meio do multiprocessamento. (e)"
   ]
  },
  {
   "cell_type": "code",
   "execution_count": 41,
   "metadata": {},
   "outputs": [
    {
     "name": "stdout",
     "output_type": "stream",
     "text": [
      "1.7239913940429688\n",
      "{'estrela': 1, 'temperatura': 3579.0}\n",
      "{'estrela': 2, 'temperatura': 8845.0}\n",
      "{'estrela': 3, 'temperatura': 2692.0}\n",
      "{'estrela': 4, 'temperatura': 3579.0}\n",
      "{'estrela': 5, 'temperatura': 5631.0}\n",
      "{'estrela': 6, 'temperatura': 9933.0}\n",
      "{'estrela': 7, 'temperatura': 10637.0}\n",
      "{'estrela': 8, 'temperatura': 4568.0}\n",
      "{'estrela': 9, 'temperatura': 5791.0}\n",
      "{'estrela': 10, 'temperatura': 9424.0}\n",
      "{'estrela': 11, 'temperatura': 2404.0}\n",
      "{'estrela': 12, 'temperatura': 2428.0}\n",
      "{'estrela': 13, 'temperatura': 8262.0}\n",
      "{'estrela': 14, 'temperatura': 3128.0}\n",
      "{'estrela': 15, 'temperatura': 7543.0}\n",
      "{'estrela': 16, 'temperatura': 4140.0}\n",
      "{'estrela': 17, 'temperatura': 2878.0}\n",
      "{'estrela': 18, 'temperatura': 10205.0}\n",
      "{'estrela': 19, 'temperatura': 9381.0}\n",
      "{'estrela': 20, 'temperatura': 5397.0}\n",
      "{'estrela': 21, 'temperatura': 5381.0}\n",
      "{'estrela': 22, 'temperatura': 7429.0}\n",
      "{'estrela': 23, 'temperatura': 2618.0}\n",
      "{'estrela': 24, 'temperatura': 6075.0}\n",
      "{'estrela': 25, 'temperatura': 4029.0}\n",
      "{'estrela': 26, 'temperatura': 9484.0}\n",
      "{'estrela': 27, 'temperatura': 6509.0}\n",
      "{'estrela': 28, 'temperatura': 7716.0}\n",
      "{'estrela': 29, 'temperatura': 5690.0}\n",
      "{'estrela': 30, 'temperatura': 9531.0}\n",
      "{'estrela': 31, 'temperatura': 2310.0}\n",
      "{'estrela': 32, 'temperatura': 2560.0}\n",
      "{'estrela': 33, 'temperatura': 3284.0}\n",
      "{'estrela': 34, 'temperatura': 5316.0}\n",
      "{'estrela': 35, 'temperatura': 3579.0}\n",
      "{'estrela': 36, 'temperatura': 8618.0}\n",
      "{'estrela': 37, 'temperatura': 6716.0}\n",
      "{'estrela': 38, 'temperatura': 9001.0}\n",
      "{'estrela': 39, 'temperatura': 10141.0}\n",
      "{'estrela': 40, 'temperatura': 10203.0}\n",
      "{'estrela': 41, 'temperatura': 6284.0}\n",
      "{'estrela': 42, 'temperatura': 7487.0}\n",
      "{'estrela': 43, 'temperatura': 9918.0}\n",
      "{'estrela': 44, 'temperatura': 10814.0}\n",
      "{'estrela': 45, 'temperatura': 6579.0}\n",
      "{'estrela': 46, 'temperatura': 7275.0}\n",
      "{'estrela': 47, 'temperatura': 9016.0}\n",
      "{'estrela': 48, 'temperatura': 3986.0}\n",
      "{'estrela': 49, 'temperatura': 8473.0}\n",
      "{'estrela': 50, 'temperatura': 3822.0}\n",
      "{'estrela': 51, 'temperatura': 4817.0}\n",
      "{'estrela': 52, 'temperatura': 7156.0}\n",
      "{'estrela': 53, 'temperatura': 3357.0}\n",
      "{'estrela': 54, 'temperatura': 10366.0}\n",
      "{'estrela': 55, 'temperatura': 3579.0}\n",
      "{'estrela': 56, 'temperatura': 3823.0}\n",
      "{'estrela': 57, 'temperatura': 5220.0}\n",
      "{'estrela': 58, 'temperatura': 10169.0}\n",
      "{'estrela': 59, 'temperatura': 9195.0}\n",
      "{'estrela': 60, 'temperatura': 10805.0}\n",
      "{'estrela': 61, 'temperatura': 3260.0}\n",
      "{'estrela': 62, 'temperatura': 3479.0}\n",
      "{'estrela': 63, 'temperatura': 9483.0}\n",
      "{'estrela': 64, 'temperatura': 8824.0}\n",
      "{'estrela': 65, 'temperatura': 7330.0}\n",
      "{'estrela': 66, 'temperatura': 4354.0}\n",
      "{'estrela': 67, 'temperatura': 8350.0}\n",
      "{'estrela': 68, 'temperatura': 7550.0}\n",
      "{'estrela': 69, 'temperatura': 6510.0}\n",
      "{'estrela': 70, 'temperatura': 10121.0}\n",
      "{'estrela': 71, 'temperatura': 6602.0}\n",
      "{'estrela': 72, 'temperatura': 3358.0}\n",
      "{'estrela': 73, 'temperatura': 7162.0}\n",
      "{'estrela': 74, 'temperatura': 7967.0}\n",
      "{'estrela': 75, 'temperatura': 6650.0}\n",
      "{'estrela': 76, 'temperatura': 6417.0}\n",
      "{'estrela': 77, 'temperatura': 7085.0}\n",
      "{'estrela': 78, 'temperatura': 7848.0}\n",
      "{'estrela': 79, 'temperatura': 6450.0}\n",
      "{'estrela': 80, 'temperatura': 10840.0}\n",
      "{'estrela': 81, 'temperatura': 16474.0}\n",
      "{'estrela': 82, 'temperatura': 11041.0}\n",
      "{'estrela': 83, 'temperatura': 20023.0}\n",
      "{'estrela': 84, 'temperatura': 16702.0}\n",
      "{'estrela': 85, 'temperatura': 19912.0}\n",
      "{'estrela': 86, 'temperatura': 25697.0}\n",
      "{'estrela': 87, 'temperatura': 15460.0}\n",
      "{'estrela': 88, 'temperatura': 21632.0}\n",
      "{'estrela': 89, 'temperatura': 23168.0}\n",
      "{'estrela': 90, 'temperatura': 23026.0}\n",
      "{'estrela': 91, 'temperatura': 23510.0}\n",
      "{'estrela': 92, 'temperatura': 27660.0}\n",
      "{'estrela': 93, 'temperatura': 18103.0}\n",
      "{'estrela': 94, 'temperatura': 27239.0}\n",
      "{'estrela': 95, 'temperatura': 13895.0}\n",
      "{'estrela': 96, 'temperatura': 25798.0}\n",
      "{'estrela': 97, 'temperatura': 20313.0}\n",
      "{'estrela': 98, 'temperatura': 19352.0}\n",
      "{'estrela': 99, 'temperatura': 15960.0}\n",
      "{'estrela': 100, 'temperatura': 23396.0}\n"
     ]
    }
   ],
   "source": [
    "start = time.time()\n",
    "\n",
    "pool = mp.Pool(processes=4)\n",
    "results = [{'estrela': x, 'temperatura': pool.apply(melhor_valor, args=(x,))} for x in range(1, 101)]\n",
    "pool.terminate()\n",
    "pool.join()\n",
    "\n",
    "end = time.time()\n",
    "print(end-start)\n",
    "\n",
    "for e in results:\n",
    "    print(e)"
   ]
  },
  {
   "cell_type": "markdown",
   "metadata": {},
   "source": [
    "# 2) Solução da Mariana e Laíza"
   ]
  },
  {
   "cell_type": "markdown",
   "metadata": {},
   "source": [
    "## Sem paralelização"
   ]
  },
  {
   "cell_type": "markdown",
   "metadata": {},
   "source": [
    "Binárias"
   ]
  },
  {
   "cell_type": "code",
   "execution_count": 42,
   "metadata": {},
   "outputs": [],
   "source": [
    "def omega(T):\n",
    "    return 2*np.pi/T\n",
    "\n",
    "def erro_total(pontos, T):\n",
    "    t, b, e = pontos.T\n",
    "    return np.sum(np.power((b - np.sin(omega(T)*t))/e, 2))\n",
    "\n",
    "def sumdif(a, b):\n",
    "    return a + b, a - b\n",
    "\n",
    "def melhor_w(pontos, mini, maxi, passi):\n",
    "    mine = float('inf')\n",
    "    T = 0\n",
    "    mint, maxt, passo = mini, maxi, passi\n",
    "    arredonda = 0\n",
    "    while True:\n",
    "        ts = [round(i, arredonda) for i in np.arange(mint, maxt, passo)]\n",
    "        er = mine\n",
    "        for t in ts:\n",
    "            e = erro_total(pontos, t)\n",
    "            if e < mine:\n",
    "                mine, T = e, t\n",
    "        if mine == er:\n",
    "            break\n",
    "        maxt, mint = sumdif(T, passo)\n",
    "        passo /= 10\n",
    "        maxt += passo\n",
    "        arredonda += 1\n",
    "    return omega(T)"
   ]
  },
  {
   "cell_type": "code",
   "execution_count": 45,
   "metadata": {},
   "outputs": [
    {
     "name": "stdout",
     "output_type": "stream",
     "text": [
      "Tempo binária 1: 0.002991199493408203\n",
      "Tempo binária 2: 0.0033371448516845703\n",
      "Tempo total binárias: 0.0063283443450927734\n"
     ]
    }
   ],
   "source": [
    "i1 = time.time()\n",
    "bin1 = np.loadtxt('binaria_eclipsante_1.dat')\n",
    "w1 = melhor_w(bin1, 1, 5, 1)\n",
    "fi = time.time()\n",
    "bin2 = np.loadtxt('binaria_eclipsante_2.dat')\n",
    "w2 = melhor_w(bin2, 1, 500, 10)\n",
    "f2 = time.time()\n",
    "\n",
    "print(f'Tempo binária 1: {fi-i1}\\nTempo binária 2: {f2-fi}')\n",
    "print(f'Tempo total binárias: {f2-i1}')"
   ]
  },
  {
   "cell_type": "markdown",
   "metadata": {},
   "source": [
    "Asteroide"
   ]
  },
  {
   "cell_type": "code",
   "execution_count": 48,
   "metadata": {},
   "outputs": [],
   "source": [
    "def e(a, b):\n",
    "    return (np.sqrt(np.power(a, 2) - np.power(b, 2)))/a\n",
    "\n",
    "def elipse(a, b, ang):\n",
    "    cima = a * (1 - np.power(e(a, b), 2))\n",
    "    baixo = 1 + e(a, b)*np.cos(ang)\n",
    "    return cima/baixo\n",
    "\n",
    "def erro_elipse(pontos, a, b):\n",
    "    theta, raio, erro = pontos.T\n",
    "    theta = np.radians(theta)\n",
    "    return np.sum(np.power((raio - elipse(a, b, theta))/erro, 2))"
   ]
  },
  {
   "cell_type": "code",
   "execution_count": 50,
   "metadata": {},
   "outputs": [
    {
     "name": "stdout",
     "output_type": "stream",
     "text": [
      "Tempo órbita: 0.10702276229858398\n"
     ]
    }
   ],
   "source": [
    "ini = time.time()\n",
    "orb = np.loadtxt('orbita_de_um_asteroide.dat')\n",
    "maxa, mina = 40, 20\n",
    "maxb, minb = 20, 10\n",
    "mela, melb = 0, 0\n",
    "mine = float('inf')\n",
    "passo, arredonda = 1, 1\n",
    "\n",
    "while True:\n",
    "    alla = [round(i, arredonda) for i in np.arange(mina, maxa, passo)]\n",
    "    allb = [round(j, arredonda) for j in np.arange(minb, maxb, passo)]\n",
    "    err = mine\n",
    "    for a in alla:\n",
    "        for b in allb:\n",
    "            er = erro_elipse(orb, a, b)\n",
    "            if er < mine:\n",
    "                mela, melb, mine = a, b, er\n",
    "    if mine == err:\n",
    "        break\n",
    "    maxa, mina = sumdif(mela, passo)\n",
    "    maxb, minb = sumdif(melb, passo)\n",
    "    passo /= 10\n",
    "    arredonda += 1\n",
    "    maxa, maxb = maxa+passo, maxb+passo\n",
    "fim = time.time()\n",
    "\n",
    "print(f'Tempo órbita: {fim-ini}')"
   ]
  },
  {
   "cell_type": "markdown",
   "metadata": {},
   "source": [
    "## Só multiprocessing síncrono"
   ]
  },
  {
   "cell_type": "code",
   "execution_count": 51,
   "metadata": {},
   "outputs": [],
   "source": [
    "def melhor_w(pontos, mini, maxi, passi):\n",
    "    mine = float('inf')\n",
    "    T = 0\n",
    "    mint, maxt, passo = mini, maxi, passi\n",
    "    arredonda = 0\n",
    "    while True:\n",
    "        ts = [round(i, arredonda) for i in np.arange(mint, maxt, passo)]\n",
    "        er = mine\n",
    "        pool = mp.Pool(processes=4)\n",
    "        erros = [(t, pool.apply(erro_total, args=(pontos, t,))) for t in ts]\n",
    "        pool.terminate()\n",
    "        pool.join()\n",
    "        T, mine = min(erros, key=lambda x: x[1])\n",
    "        if mine == er:\n",
    "            break\n",
    "        maxt, mint = sumdif(T, passo)\n",
    "        passo /= 10\n",
    "        maxt += passo\n",
    "        arredonda += 1\n",
    "    return omega(T)"
   ]
  },
  {
   "cell_type": "code",
   "execution_count": 52,
   "metadata": {},
   "outputs": [
    {
     "name": "stdout",
     "output_type": "stream",
     "text": [
      "Tempo binária 1: 0.3595004081726074\n",
      "Tempo binária 2: 0.3601841926574707\n"
     ]
    }
   ],
   "source": [
    "i1 = time.time()\n",
    "bin1 = np.loadtxt('binaria_eclipsante_1.dat')\n",
    "w1 = melhor_w(bin1, 1, 5, 1)\n",
    "fi = time.time()\n",
    "bin2 = np.loadtxt('binaria_eclipsante_2.dat')\n",
    "w2 = melhor_w(bin2, 1, 500, 10)\n",
    "f2 = time.time()\n",
    "\n",
    "print(f'Tempo binária 1: {fi-i1}\\nTempo binária 2: {f2-fi}')"
   ]
  },
  {
   "cell_type": "code",
   "execution_count": 53,
   "metadata": {},
   "outputs": [
    {
     "name": "stdout",
     "output_type": "stream",
     "text": [
      "Tempo órbita: 1.216536283493042\n"
     ]
    }
   ],
   "source": [
    "ini = time.time()\n",
    "orb = np.loadtxt('orbita_de_um_asteroide.dat')\n",
    "maxa, mina = 40, 20\n",
    "maxb, minb = 20, 10\n",
    "mela, melb = 0, 0\n",
    "mine = float('inf')\n",
    "passo, arredonda = 1, 1\n",
    "\n",
    "while True:\n",
    "    alla = [round(i, arredonda) for i in np.arange(mina, maxa, passo)]\n",
    "    allb = [round(j, arredonda) for j in np.arange(minb, maxb, passo)]\n",
    "    err = mine\n",
    "    pool = mp.Pool(processes=4)\n",
    "    erros = [(a, b, pool.apply(erro_elipse, args=(orb, a, b,))) for a in alla for b in allb]\n",
    "    pool.terminate()\n",
    "    pool.join()\n",
    "    mela, melb, mine = min(erros, key=lambda x: x[2])\n",
    "    if mine == err:\n",
    "        break\n",
    "    maxa, mina = sumdif(mela, passo)\n",
    "    maxb, minb = sumdif(melb, passo)\n",
    "    passo /= 10\n",
    "    arredonda += 1\n",
    "    maxa, maxb = maxa+passo, maxb+passo\n",
    "fim = time.time()\n",
    "\n",
    "print(f'Tempo órbita: {fim-ini}')"
   ]
  },
  {
   "cell_type": "markdown",
   "metadata": {},
   "source": [
    "## Só multiprocessing assíncrono"
   ]
  },
  {
   "cell_type": "code",
   "execution_count": 55,
   "metadata": {},
   "outputs": [],
   "source": [
    "def melhor_w(pontos, mini, maxi, passi):\n",
    "    mine = float('inf')\n",
    "    T = 0\n",
    "    mint, maxt, passo = mini, maxi, passi\n",
    "    arredonda = 0\n",
    "    while True:\n",
    "        ts = [round(i, arredonda) for i in np.arange(mint, maxt, passo)]\n",
    "        er = mine\n",
    "        pool = mp.Pool(processes=4)\n",
    "        erros = [(t, pool.apply_async(erro_total, args=(pontos, t,))) for t in ts]\n",
    "        output = [(t, p.get()) for t, p in erros]\n",
    "        T, mine = min(output, key=lambda x: x[1])\n",
    "        if mine == er:\n",
    "            break\n",
    "        maxt, mint = sumdif(T, passo)\n",
    "        passo /= 10\n",
    "        maxt += passo\n",
    "        arredonda += 1\n",
    "    return omega(T)"
   ]
  },
  {
   "cell_type": "code",
   "execution_count": 57,
   "metadata": {},
   "outputs": [
    {
     "name": "stdout",
     "output_type": "stream",
     "text": [
      "Tempo binária 1: 0.05945014953613281\n",
      "Tempo binária 2: 0.0646977424621582\n"
     ]
    }
   ],
   "source": [
    "i1 = time.time()\n",
    "bin1 = np.loadtxt('binaria_eclipsante_1.dat')\n",
    "w1 = melhor_w(bin1, 1, 5, 1)\n",
    "fi = time.time()\n",
    "bin2 = np.loadtxt('binaria_eclipsante_2.dat')\n",
    "w2 = melhor_w(bin2, 1, 500, 10)\n",
    "f2 = time.time()\n",
    "\n",
    "print(f'Tempo binária 1: {fi-i1}\\nTempo binária 2: {f2-fi}')"
   ]
  },
  {
   "cell_type": "code",
   "execution_count": 58,
   "metadata": {},
   "outputs": [
    {
     "name": "stdout",
     "output_type": "stream",
     "text": [
      "Tempo órbita: 0.3169984817504883\n"
     ]
    }
   ],
   "source": [
    "ini = time.time()\n",
    "orb = np.loadtxt('orbita_de_um_asteroide.dat')\n",
    "maxa, mina = 40, 20\n",
    "maxb, minb = 20, 10\n",
    "mela, melb = 0, 0\n",
    "mine = float('inf')\n",
    "passo, arredonda = 1, 1\n",
    "\n",
    "while True:\n",
    "    alla = [round(i, arredonda) for i in np.arange(mina, maxa, passo)]\n",
    "    allb = [round(j, arredonda) for j in np.arange(minb, maxb, passo)]\n",
    "    err = mine\n",
    "    pool = mp.Pool(processes=4)\n",
    "    erros = [(a, b, pool.apply_async(erro_elipse, args=(orb, a, b,))) for a in alla for b in allb]\n",
    "    output = [(a, b, p.get()) for a, b, p in erros]\n",
    "    mela, melb, mine = min(output, key=lambda x: x[2])\n",
    "    if mine == err:\n",
    "        break\n",
    "    maxa, mina = sumdif(mela, passo)\n",
    "    maxb, minb = sumdif(melb, passo)\n",
    "    passo /= 10\n",
    "    arredonda += 1\n",
    "    maxa, maxb = maxa+passo, maxb+passo\n",
    "fim = time.time()\n",
    "\n",
    "print(f'Tempo órbita: {fim-ini}')"
   ]
  },
  {
   "cell_type": "markdown",
   "metadata": {},
   "source": [
    "## Só pymp"
   ]
  },
  {
   "cell_type": "code",
   "execution_count": 59,
   "metadata": {},
   "outputs": [],
   "source": [
    "def melhor_w(pontos, mini, maxi, passi):\n",
    "    mine = float('inf')\n",
    "    T = 0\n",
    "    mint, maxt, passo = mini, maxi, passi\n",
    "    arredonda = 0\n",
    "    while True:\n",
    "        ts = [round(i, arredonda) for i in np.arange(mint, maxt, passo)]\n",
    "        erros = pymp.shared.array(len(ts,), dtype='float64')\n",
    "        with pymp.Parallel(4) as p:\n",
    "            for i in p.range(0, len(erros)):\n",
    "                erros[i] = erro_total(pontos, ts[i])\n",
    "        er = mine\n",
    "        mine, T = min(erros), ts[erros.argmin()]\n",
    "        if mine == er:\n",
    "            break\n",
    "        maxt, mint = sumdif(T, passo)\n",
    "        passo /= 10\n",
    "        maxt += passo\n",
    "        arredonda += 1\n",
    "    return omega(T)"
   ]
  },
  {
   "cell_type": "code",
   "execution_count": 69,
   "metadata": {},
   "outputs": [
    {
     "name": "stdout",
     "output_type": "stream",
     "text": [
      "Tempo binária 1: 0.12218666076660156\n",
      "Tempo binária 2: 0.12941884994506836\n",
      "3.6\n",
      "360.0\n"
     ]
    }
   ],
   "source": [
    "i1 = time.time()\n",
    "bin1 = np.loadtxt('binaria_eclipsante_1.dat')\n",
    "w1 = melhor_w(bin1, 1, 5, 1)\n",
    "fi = time.time()\n",
    "bin2 = np.loadtxt('binaria_eclipsante_2.dat')\n",
    "w2 = melhor_w(bin2, 1, 500, 10)\n",
    "f2 = time.time()\n",
    "\n",
    "print(f'Tempo binária 1: {fi-i1}\\nTempo binária 2: {f2-fi}')\n",
    "print(2*np.pi/w1)\n",
    "print(2*np.pi/w2)"
   ]
  },
  {
   "cell_type": "code",
   "execution_count": 62,
   "metadata": {},
   "outputs": [
    {
     "name": "stdout",
     "output_type": "stream",
     "text": [
      "Tempo órbita: 4.329250335693359\n"
     ]
    }
   ],
   "source": [
    "ini = time.time()\n",
    "orb = np.loadtxt('orbita_de_um_asteroide.dat')\n",
    "maxa, mina = 40, 20\n",
    "maxb, minb = 20, 10\n",
    "mela, melb = 0, 0\n",
    "mine = float('inf')\n",
    "passo, arredonda = 1, 1\n",
    "\n",
    "while True:\n",
    "    alla = [round(i, arredonda) for i in np.arange(mina, maxa, passo)]\n",
    "    allb = [round(j, arredonda) for j in np.arange(minb, maxb, passo)]\n",
    "    err = mine\n",
    "    erros = [pymp.shared.array(len(allb), dtype='float64') for i in range(len(alla))]\n",
    "    for i,a in enumerate(alla):\n",
    "        with pymp.Parallel(4) as p:\n",
    "            for j in p.range(0,len(allb)):\n",
    "                erros[i][j] = erro_elipse(orb,a, allb[j])\n",
    "    for i,ea in enumerate(erros):\n",
    "        m = min(ea)\n",
    "        if m < mine:\n",
    "            mela, melb, mine = alla[i], allb[list(ea).index(m)], m\n",
    "    if mine == err:\n",
    "        break\n",
    "    maxa, mina = sumdif(mela, passo)\n",
    "    maxb, minb = sumdif(melb, passo)\n",
    "    passo /= 10\n",
    "    arredonda += 1\n",
    "    maxa, maxb = maxa+passo, maxb+passo\n",
    "fim = time.time()\n",
    "\n",
    "print(f'Tempo órbita: {fim-ini}')"
   ]
  },
  {
   "cell_type": "markdown",
   "metadata": {},
   "source": [
    "## Multiprocessing síncrono e pymp"
   ]
  },
  {
   "cell_type": "code",
   "execution_count": 63,
   "metadata": {},
   "outputs": [
    {
     "name": "stdout",
     "output_type": "stream",
     "text": [
      "Tempo órbita: 1.764214277267456\n"
     ]
    }
   ],
   "source": [
    "ini = time.time()\n",
    "orb = np.loadtxt('orbita_de_um_asteroide.dat')\n",
    "maxa, mina = 40, 20\n",
    "maxb, minb = 20, 10\n",
    "mela, melb = 0, 0\n",
    "mine = float('inf')\n",
    "passo, arredonda = 1, 1\n",
    "def pympb(i):\n",
    "    with pymp.Parallel(4) as p:\n",
    "        for j in p.range(0,len(allb)):\n",
    "            erros[i][j] = erro_elipse(orb,alla[i], allb[j])\n",
    "\n",
    "while True:\n",
    "    alla = [round(i, arredonda) for i in np.arange(mina, maxa, passo)]\n",
    "    allb = [round(j, arredonda) for j in np.arange(minb, maxb, passo)]\n",
    "    err = mine\n",
    "    erros = [pymp.shared.array(len(allb), dtype='float64') for i in range(len(alla))]\n",
    "    pool = mp.Pool(processes=4)\n",
    "    pool.map(pympb, range(0,len(alla)))\n",
    "    pool.terminate()\n",
    "    pool.join()\n",
    "    for i,ea in enumerate(erros):\n",
    "        m = min(ea)\n",
    "        if m < mine:\n",
    "            mela, melb, mine = alla[i], allb[list(ea).index(m)], m\n",
    "    if mine == err:\n",
    "        break\n",
    "    maxa, mina = sumdif(mela, passo)\n",
    "    maxb, minb = sumdif(melb, passo)\n",
    "    passo /= 10\n",
    "    arredonda += 1\n",
    "    maxa, maxb = maxa+passo, maxb+passo\n",
    "fim = time.time()\n",
    "\n",
    "print(f'Tempo órbita: {fim-ini}')"
   ]
  },
  {
   "cell_type": "markdown",
   "metadata": {},
   "source": [
    "# Acrescentada com relação as soluções da Mariana e Laíza"
   ]
  },
  {
   "cell_type": "code",
   "execution_count": 81,
   "metadata": {},
   "outputs": [
    {
     "name": "stdout",
     "output_type": "stream",
     "text": [
      "tempo total= 0.11454343795776367\n",
      "periodos aproximados =  [  3.6 360. ]\n"
     ]
    }
   ],
   "source": [
    "i1 = time.time()\n",
    "bins = [np.loadtxt('binaria_eclipsante_1.dat'),np.loadtxt('binaria_eclipsante_2.dat')]\n",
    "mins = [1,1]\n",
    "maxs = [5,500]\n",
    "passis = [1,10] \n",
    "\n",
    "def melhor_w_multiparallel(binN):\n",
    "    return melhor_w(bins[binN], mins[binN], maxs[binN], passis[binN])\n",
    "\n",
    "start = time.time()\n",
    "pool = mp.Pool(processes=2)\n",
    "ws = pool.map(melhor_w_multiparallel, range(0,2))\n",
    "pool.terminate()\n",
    "pool.join()\n",
    "end = time.time()\n",
    "print('tempo total=',end-start)\n",
    "print('periodos aproximados = ',np.array([2*np.pi,2*np.pi])/np.array(ws))\n"
   ]
  },
  {
   "cell_type": "code",
   "execution_count": null,
   "metadata": {},
   "outputs": [],
   "source": []
  }
 ],
 "metadata": {
  "kernelspec": {
   "display_name": "Python 3",
   "language": "python",
   "name": "python3"
  },
  "language_info": {
   "codemirror_mode": {
    "name": "ipython",
    "version": 3
   },
   "file_extension": ".py",
   "mimetype": "text/x-python",
   "name": "python",
   "nbconvert_exporter": "python",
   "pygments_lexer": "ipython3",
   "version": "3.8.6"
  }
 },
 "nbformat": 4,
 "nbformat_minor": 2
}
