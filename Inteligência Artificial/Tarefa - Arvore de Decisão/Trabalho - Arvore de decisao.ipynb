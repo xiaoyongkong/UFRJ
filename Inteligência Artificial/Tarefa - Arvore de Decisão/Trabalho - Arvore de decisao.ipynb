{
  "nbformat": 4,
  "nbformat_minor": 0,
  "metadata": {
    "kernelspec": {
      "display_name": "Python 3",
      "language": "python",
      "name": "python3"
    },
    "language_info": {
      "codemirror_mode": {
        "name": "ipython",
        "version": 3
      },
      "file_extension": ".py",
      "mimetype": "text/x-python",
      "name": "python",
      "nbconvert_exporter": "python",
      "pygments_lexer": "ipython3",
      "version": "3.6.9"
    },
    "colab": {
      "name": "Trabalho IA - Arvore de decisão.ipynb",
      "provenance": [],
      "collapsed_sections": []
    }
  },
  "cells": [
    {
      "cell_type": "markdown",
      "metadata": {
        "id": "DmVXKUPdASpK"
      },
      "source": [
        "**Alunos:** \n",
        "\n",
        "Breno Pontes Da Costa - 114036496\n",
        "\n",
        "Xiao Yong Kong - 114176987"
      ]
    },
    {
      "cell_type": "code",
      "metadata": {
        "id": "wPH74KM_MrmK",
        "colab": {
          "base_uri": "https://localhost:8080/",
          "height": 527
        },
        "outputId": "8a1cfcdc-e883-4d30-dfe8-b592cb410307"
      },
      "source": [
        "# carregando o drive\n",
        "from google.colab import drive\n",
        "drive.mount('/content/drive')"
      ],
      "execution_count": null,
      "outputs": [
        {
          "output_type": "error",
          "ename": "KeyboardInterrupt",
          "evalue": "ignored",
          "traceback": [
            "\u001b[0;31m---------------------------------------------------------------------------\u001b[0m",
            "\u001b[0;31mKeyboardInterrupt\u001b[0m                         Traceback (most recent call last)",
            "\u001b[0;32m/usr/local/lib/python3.6/dist-packages/ipykernel/kernelbase.py\u001b[0m in \u001b[0;36m_input_request\u001b[0;34m(self, prompt, ident, parent, password)\u001b[0m\n\u001b[1;32m    728\u001b[0m             \u001b[0;32mtry\u001b[0m\u001b[0;34m:\u001b[0m\u001b[0;34m\u001b[0m\u001b[0;34m\u001b[0m\u001b[0m\n\u001b[0;32m--> 729\u001b[0;31m                 \u001b[0mident\u001b[0m\u001b[0;34m,\u001b[0m \u001b[0mreply\u001b[0m \u001b[0;34m=\u001b[0m \u001b[0mself\u001b[0m\u001b[0;34m.\u001b[0m\u001b[0msession\u001b[0m\u001b[0;34m.\u001b[0m\u001b[0mrecv\u001b[0m\u001b[0;34m(\u001b[0m\u001b[0mself\u001b[0m\u001b[0;34m.\u001b[0m\u001b[0mstdin_socket\u001b[0m\u001b[0;34m,\u001b[0m \u001b[0;36m0\u001b[0m\u001b[0;34m)\u001b[0m\u001b[0;34m\u001b[0m\u001b[0;34m\u001b[0m\u001b[0m\n\u001b[0m\u001b[1;32m    730\u001b[0m             \u001b[0;32mexcept\u001b[0m \u001b[0mException\u001b[0m\u001b[0;34m:\u001b[0m\u001b[0;34m\u001b[0m\u001b[0;34m\u001b[0m\u001b[0m\n",
            "\u001b[0;32m/usr/local/lib/python3.6/dist-packages/jupyter_client/session.py\u001b[0m in \u001b[0;36mrecv\u001b[0;34m(self, socket, mode, content, copy)\u001b[0m\n\u001b[1;32m    802\u001b[0m         \u001b[0;32mtry\u001b[0m\u001b[0;34m:\u001b[0m\u001b[0;34m\u001b[0m\u001b[0;34m\u001b[0m\u001b[0m\n\u001b[0;32m--> 803\u001b[0;31m             \u001b[0mmsg_list\u001b[0m \u001b[0;34m=\u001b[0m \u001b[0msocket\u001b[0m\u001b[0;34m.\u001b[0m\u001b[0mrecv_multipart\u001b[0m\u001b[0;34m(\u001b[0m\u001b[0mmode\u001b[0m\u001b[0;34m,\u001b[0m \u001b[0mcopy\u001b[0m\u001b[0;34m=\u001b[0m\u001b[0mcopy\u001b[0m\u001b[0;34m)\u001b[0m\u001b[0;34m\u001b[0m\u001b[0;34m\u001b[0m\u001b[0m\n\u001b[0m\u001b[1;32m    804\u001b[0m         \u001b[0;32mexcept\u001b[0m \u001b[0mzmq\u001b[0m\u001b[0;34m.\u001b[0m\u001b[0mZMQError\u001b[0m \u001b[0;32mas\u001b[0m \u001b[0me\u001b[0m\u001b[0;34m:\u001b[0m\u001b[0;34m\u001b[0m\u001b[0;34m\u001b[0m\u001b[0m\n",
            "\u001b[0;32m/usr/local/lib/python3.6/dist-packages/zmq/sugar/socket.py\u001b[0m in \u001b[0;36mrecv_multipart\u001b[0;34m(self, flags, copy, track)\u001b[0m\n\u001b[1;32m    582\u001b[0m         \"\"\"\n\u001b[0;32m--> 583\u001b[0;31m         \u001b[0mparts\u001b[0m \u001b[0;34m=\u001b[0m \u001b[0;34m[\u001b[0m\u001b[0mself\u001b[0m\u001b[0;34m.\u001b[0m\u001b[0mrecv\u001b[0m\u001b[0;34m(\u001b[0m\u001b[0mflags\u001b[0m\u001b[0;34m,\u001b[0m \u001b[0mcopy\u001b[0m\u001b[0;34m=\u001b[0m\u001b[0mcopy\u001b[0m\u001b[0;34m,\u001b[0m \u001b[0mtrack\u001b[0m\u001b[0;34m=\u001b[0m\u001b[0mtrack\u001b[0m\u001b[0;34m)\u001b[0m\u001b[0;34m]\u001b[0m\u001b[0;34m\u001b[0m\u001b[0;34m\u001b[0m\u001b[0m\n\u001b[0m\u001b[1;32m    584\u001b[0m         \u001b[0;31m# have first part already, only loop while more to receive\u001b[0m\u001b[0;34m\u001b[0m\u001b[0;34m\u001b[0m\u001b[0;34m\u001b[0m\u001b[0m\n",
            "\u001b[0;32mzmq/backend/cython/socket.pyx\u001b[0m in \u001b[0;36mzmq.backend.cython.socket.Socket.recv\u001b[0;34m()\u001b[0m\n",
            "\u001b[0;32mzmq/backend/cython/socket.pyx\u001b[0m in \u001b[0;36mzmq.backend.cython.socket.Socket.recv\u001b[0;34m()\u001b[0m\n",
            "\u001b[0;32mzmq/backend/cython/socket.pyx\u001b[0m in \u001b[0;36mzmq.backend.cython.socket._recv_copy\u001b[0;34m()\u001b[0m\n",
            "\u001b[0;32m/usr/local/lib/python3.6/dist-packages/zmq/backend/cython/checkrc.pxd\u001b[0m in \u001b[0;36mzmq.backend.cython.checkrc._check_rc\u001b[0;34m()\u001b[0m\n",
            "\u001b[0;31mKeyboardInterrupt\u001b[0m: ",
            "\nDuring handling of the above exception, another exception occurred:\n",
            "\u001b[0;31mKeyboardInterrupt\u001b[0m                         Traceback (most recent call last)",
            "\u001b[0;32m<ipython-input-1-9713b1e900a2>\u001b[0m in \u001b[0;36m<module>\u001b[0;34m()\u001b[0m\n\u001b[1;32m      1\u001b[0m \u001b[0;31m# carregando o drive\u001b[0m\u001b[0;34m\u001b[0m\u001b[0;34m\u001b[0m\u001b[0;34m\u001b[0m\u001b[0m\n\u001b[1;32m      2\u001b[0m \u001b[0;32mfrom\u001b[0m \u001b[0mgoogle\u001b[0m\u001b[0;34m.\u001b[0m\u001b[0mcolab\u001b[0m \u001b[0;32mimport\u001b[0m \u001b[0mdrive\u001b[0m\u001b[0;34m\u001b[0m\u001b[0;34m\u001b[0m\u001b[0m\n\u001b[0;32m----> 3\u001b[0;31m \u001b[0mdrive\u001b[0m\u001b[0;34m.\u001b[0m\u001b[0mmount\u001b[0m\u001b[0;34m(\u001b[0m\u001b[0;34m'/content/drive'\u001b[0m\u001b[0;34m)\u001b[0m\u001b[0;34m\u001b[0m\u001b[0;34m\u001b[0m\u001b[0m\n\u001b[0m",
            "\u001b[0;32m/usr/local/lib/python3.6/dist-packages/google/colab/drive.py\u001b[0m in \u001b[0;36mmount\u001b[0;34m(mountpoint, force_remount, timeout_ms, use_metadata_server)\u001b[0m\n\u001b[1;32m    260\u001b[0m       \u001b[0;32mwith\u001b[0m \u001b[0m_output\u001b[0m\u001b[0;34m.\u001b[0m\u001b[0muse_tags\u001b[0m\u001b[0;34m(\u001b[0m\u001b[0;34m'dfs-auth-dance'\u001b[0m\u001b[0;34m)\u001b[0m\u001b[0;34m:\u001b[0m\u001b[0;34m\u001b[0m\u001b[0;34m\u001b[0m\u001b[0m\n\u001b[1;32m    261\u001b[0m         \u001b[0;32mwith\u001b[0m \u001b[0mopen\u001b[0m\u001b[0;34m(\u001b[0m\u001b[0mfifo\u001b[0m\u001b[0;34m,\u001b[0m \u001b[0;34m'w'\u001b[0m\u001b[0;34m)\u001b[0m \u001b[0;32mas\u001b[0m \u001b[0mfifo_file\u001b[0m\u001b[0;34m:\u001b[0m\u001b[0;34m\u001b[0m\u001b[0;34m\u001b[0m\u001b[0m\n\u001b[0;32m--> 262\u001b[0;31m           \u001b[0mfifo_file\u001b[0m\u001b[0;34m.\u001b[0m\u001b[0mwrite\u001b[0m\u001b[0;34m(\u001b[0m\u001b[0mget_code\u001b[0m\u001b[0;34m(\u001b[0m\u001b[0mauth_prompt\u001b[0m\u001b[0;34m)\u001b[0m \u001b[0;34m+\u001b[0m \u001b[0;34m'\\n'\u001b[0m\u001b[0;34m)\u001b[0m\u001b[0;34m\u001b[0m\u001b[0;34m\u001b[0m\u001b[0m\n\u001b[0m\u001b[1;32m    263\u001b[0m       \u001b[0mwrote_to_fifo\u001b[0m \u001b[0;34m=\u001b[0m \u001b[0;32mTrue\u001b[0m\u001b[0;34m\u001b[0m\u001b[0;34m\u001b[0m\u001b[0m\n\u001b[1;32m    264\u001b[0m     \u001b[0;32melif\u001b[0m \u001b[0mcase\u001b[0m \u001b[0;34m==\u001b[0m \u001b[0;36m5\u001b[0m\u001b[0;34m:\u001b[0m\u001b[0;34m\u001b[0m\u001b[0;34m\u001b[0m\u001b[0m\n",
            "\u001b[0;32m/usr/local/lib/python3.6/dist-packages/ipykernel/kernelbase.py\u001b[0m in \u001b[0;36mraw_input\u001b[0;34m(self, prompt)\u001b[0m\n\u001b[1;32m    702\u001b[0m             \u001b[0mself\u001b[0m\u001b[0;34m.\u001b[0m\u001b[0m_parent_ident\u001b[0m\u001b[0;34m,\u001b[0m\u001b[0;34m\u001b[0m\u001b[0;34m\u001b[0m\u001b[0m\n\u001b[1;32m    703\u001b[0m             \u001b[0mself\u001b[0m\u001b[0;34m.\u001b[0m\u001b[0m_parent_header\u001b[0m\u001b[0;34m,\u001b[0m\u001b[0;34m\u001b[0m\u001b[0;34m\u001b[0m\u001b[0m\n\u001b[0;32m--> 704\u001b[0;31m             \u001b[0mpassword\u001b[0m\u001b[0;34m=\u001b[0m\u001b[0;32mFalse\u001b[0m\u001b[0;34m,\u001b[0m\u001b[0;34m\u001b[0m\u001b[0;34m\u001b[0m\u001b[0m\n\u001b[0m\u001b[1;32m    705\u001b[0m         )\n\u001b[1;32m    706\u001b[0m \u001b[0;34m\u001b[0m\u001b[0m\n",
            "\u001b[0;32m/usr/local/lib/python3.6/dist-packages/ipykernel/kernelbase.py\u001b[0m in \u001b[0;36m_input_request\u001b[0;34m(self, prompt, ident, parent, password)\u001b[0m\n\u001b[1;32m    732\u001b[0m             \u001b[0;32mexcept\u001b[0m \u001b[0mKeyboardInterrupt\u001b[0m\u001b[0;34m:\u001b[0m\u001b[0;34m\u001b[0m\u001b[0;34m\u001b[0m\u001b[0m\n\u001b[1;32m    733\u001b[0m                 \u001b[0;31m# re-raise KeyboardInterrupt, to truncate traceback\u001b[0m\u001b[0;34m\u001b[0m\u001b[0;34m\u001b[0m\u001b[0;34m\u001b[0m\u001b[0m\n\u001b[0;32m--> 734\u001b[0;31m                 \u001b[0;32mraise\u001b[0m \u001b[0mKeyboardInterrupt\u001b[0m\u001b[0;34m\u001b[0m\u001b[0;34m\u001b[0m\u001b[0m\n\u001b[0m\u001b[1;32m    735\u001b[0m             \u001b[0;32melse\u001b[0m\u001b[0;34m:\u001b[0m\u001b[0;34m\u001b[0m\u001b[0;34m\u001b[0m\u001b[0m\n\u001b[1;32m    736\u001b[0m                 \u001b[0;32mbreak\u001b[0m\u001b[0;34m\u001b[0m\u001b[0;34m\u001b[0m\u001b[0m\n",
            "\u001b[0;31mKeyboardInterrupt\u001b[0m: "
          ]
        }
      ]
    },
    {
      "cell_type": "code",
      "metadata": {
        "id": "RhxhtKkQFin-"
      },
      "source": [
        "# Carregando Bibliotecas\n",
        "import pandas as pd\n",
        "from sklearn.tree import DecisionTreeClassifier # Importa o classificador de árvore de decisão\n",
        "from sklearn import metrics #Importa métrica para calcular acurácia - módulo do scikit-learn\n",
        "from sklearn.model_selection import train_test_split\n",
        "from sklearn.model_selection import KFold\n",
        "from sklearn.model_selection import cross_val_score\n",
        "from sklearn.model_selection import cross_validate\n",
        "from sklearn.tree import export_graphviz\n",
        "from sklearn.externals.six import StringIO  \n",
        "from IPython.display import Image  \n",
        "import pydotplus"
      ],
      "execution_count": null,
      "outputs": []
    },
    {
      "cell_type": "markdown",
      "metadata": {
        "id": "151SCP_dFioF"
      },
      "source": [
        "Usaremos como base de dados o arquivo \"exemplo_IA.csv\" com os dados usados no exemplo da \"aula 9 - video 3 - aprendizado de máquina.pdf\"."
      ]
    },
    {
      "cell_type": "code",
      "metadata": {
        "id": "lZC6v3V3FioG"
      },
      "source": [
        "# Nome dos atributos\n",
        "col_names = ['Outlook','Temperature','Humidity','Wind','PlayTennis']\n",
        "\n",
        "# carregando a base de dados a ser usada\n",
        "exemplo = pd.read_csv(\"/content/drive/exemplo_IA.csv\", header=None, names=col_names)"
      ],
      "execution_count": null,
      "outputs": []
    },
    {
      "cell_type": "code",
      "metadata": {
        "id": "2Z_L1VWwFioK"
      },
      "source": [
        "# podemos ver os primeiros elementos do arquivo\n",
        "exemplo.head()"
      ],
      "execution_count": null,
      "outputs": []
    },
    {
      "cell_type": "code",
      "metadata": {
        "id": "jvKbZJkkFioO"
      },
      "source": [
        "# definir o conceito alvo e as features usadas\n",
        "\n",
        "feature_cols = ['Outlook','Temperature','Humidity','Wind'] # features (atributos) que serão usadas no aprendizado\n",
        "\n",
        "X = exemplo[feature_cols] # selecionamos as colunas correspondentes aos atributos que serão usados\n",
        "y = exemplo.PlayTennis # conceito que queremos aprender. Selecionamos a coluna com a classificação das instâncias"
      ],
      "execution_count": null,
      "outputs": []
    },
    {
      "cell_type": "markdown",
      "metadata": {
        "id": "4y81jsHPFioV"
      },
      "source": [
        "Os dados do nosso exemplo são categóricos e o classificador de árvore de decisão do scikit não funciona para este tipo de dado. Precisamos preparar os dados antes construir nosso classificador. Para isso vamos usar a função do pandas \"pd.get_dummies\" que converte os atributos categóricos em atributos com valores 0 e 1.\n",
        "Por exemplo, o atributo Humidity que pode receber os valores High e Normal, passa a ser representado pelos atributos Humidity_High e Humidity_Normal, que podem receber os valores 0 e 1."
      ]
    },
    {
      "cell_type": "code",
      "metadata": {
        "id": "BEWzYEnZFioW"
      },
      "source": [
        "Xone_hot_data = pd.get_dummies(X[['Outlook','Temperature','Humidity','Wind']]) #transformando o dataset\n",
        "Xone_hot_data.head()"
      ],
      "execution_count": null,
      "outputs": []
    },
    {
      "cell_type": "markdown",
      "metadata": {
        "id": "XFKBLPY8Fioa"
      },
      "source": [
        "Vamos criar agora o nosso classificador de árvore de decisão, usando como função para seleção do atributo a entropia:"
      ]
    },
    {
      "cell_type": "code",
      "metadata": {
        "id": "SyNo0Sv7Fiob"
      },
      "source": [
        "def classifier(X_train, y_train, criteria):\n",
        "  # Criação do classificador de árvore de decisão \n",
        "  clf = DecisionTreeClassifier(criterion=criteria)\n",
        "\n",
        "  # Usamos o método fit para construir o classificador a partir do nosso conjunto de treinamento\n",
        "  clf = clf.fit(X_train, y_train)\n",
        "  return clf"
      ],
      "execution_count": null,
      "outputs": []
    },
    {
      "cell_type": "markdown",
      "metadata": {
        "id": "2dmp98XNFiog"
      },
      "source": [
        "Podemos visualizar a árvore de decisão gerada usando o pacote graphviz:\n",
        "https://graphviz.org/\n",
        "https://pypi.org/project/graphviz/"
      ]
    },
    {
      "cell_type": "code",
      "metadata": {
        "id": "jzX5HoFPFioh"
      },
      "source": [
        "def generate_tree(clf, feature_names=Xone_hot_data.columns):\n",
        "  # tem que usar feature_names = one_hot_data.columns pois feature_names = feature_cols tem menos atributos\n",
        "  # pois o one-hot acrescenta mais\n",
        "  dot_data = StringIO()\n",
        "  export_graphviz(clf, out_file=dot_data,  \n",
        "                  filled=True, rounded=True,\n",
        "                  special_characters=True,feature_names=feature_names,class_names=['No','Yes'])\n",
        "  graph = pydotplus.graph_from_dot_data(dot_data.getvalue())  \n",
        "  return graph\n"
      ],
      "execution_count": null,
      "outputs": []
    },
    {
      "cell_type": "markdown",
      "metadata": {
        "id": "v6-uPgHPFiom"
      },
      "source": [
        "Podemos medir a acurácia testando quantas instâncias são classificadas corretamente. Observe que usamos todas as instâncias disponíveis no treinamento. A acurácia obtida foi 1, indicando que classificamos corretamente todos os exemplos de nosso conjunto."
      ]
    },
    {
      "cell_type": "code",
      "metadata": {
        "id": "06JHvImNFion"
      },
      "source": [
        "def prediction_accuracy(clf, X_test, y_test):\n",
        "  # Usando modelo para classificar os dados que temos a disposição\n",
        "  y_pred = clf.predict(X_test)\n",
        "\n",
        "  # Medida de acuracia, que indica quantas instâncias são corretamente classificadas\n",
        "  return metrics.accuracy_score(y_test, y_pred)"
      ],
      "execution_count": null,
      "outputs": []
    },
    {
      "cell_type": "markdown",
      "metadata": {
        "id": "e-pwXlynzLyD"
      },
      "source": [
        "Sem divisão em grupos de treino e teste\n"
      ]
    },
    {
      "cell_type": "code",
      "metadata": {
        "id": "dpkgqLfHzRU_"
      },
      "source": [
        "criteria = \"entropy\"\n",
        "clf_entropy_100 = classifier(Xone_hot_data, y, criteria)\n",
        "graph_entropy_100 = generate_tree(clf_entropy_100)\n",
        "\n",
        "graph_entropy_100.write_png('arvore-100.png')\n",
        "Image(graph_entropy_100.create_png())"
      ],
      "execution_count": null,
      "outputs": []
    },
    {
      "cell_type": "code",
      "metadata": {
        "id": "HbLzHRDbzfpQ"
      },
      "source": [
        "prediction_entropy_100 = prediction_accuracy(clf_entropy_100, Xone_hot_data, y)\n",
        "print('Acurácia: ', prediction_entropy_100)"
      ],
      "execution_count": null,
      "outputs": []
    },
    {
      "cell_type": "markdown",
      "metadata": {
        "id": "b9Rkb9VitcEO"
      },
      "source": [
        "Dividindo em 60% treinamento e 40% teste:\n"
      ]
    },
    {
      "cell_type": "code",
      "metadata": {
        "id": "i5ZKNj0jtl8n"
      },
      "source": [
        "X_train_60, X_test_60, y_train_60, y_test_60 = train_test_split(Xone_hot_data, y, test_size=0.40, random_state=1)\n",
        "\n",
        "criteria = \"entropy\"\n",
        "clf_entropy_60 = classifier(X_train_60, y_train_60, criteria)\n",
        "graph_entropy_60 = generate_tree(clf_entropy_60)\n",
        "\n",
        "graph_entropy_60.write_png('arvore-60-40.png')\n",
        "Image(graph_entropy_60.create_png())"
      ],
      "execution_count": null,
      "outputs": []
    },
    {
      "cell_type": "code",
      "metadata": {
        "id": "UG46s4p1vpG-"
      },
      "source": [
        "prediction_test_entropy_60 = prediction_accuracy(clf_entropy_60, X_test_60, y_test_60)\n",
        "print('Acurácia teste: ', prediction_test_entropy_60)"
      ],
      "execution_count": null,
      "outputs": []
    },
    {
      "cell_type": "code",
      "metadata": {
        "id": "oEQLVxABxgS4"
      },
      "source": [
        "prediction_train_entropy_60 = prediction_accuracy(clf_entropy_60, X_train_60, y_train_60)\n",
        "print('Acurácia treino: ', prediction_train_entropy_60)"
      ],
      "execution_count": null,
      "outputs": []
    },
    {
      "cell_type": "code",
      "metadata": {
        "id": "7THCNkiHxtjU"
      },
      "source": [
        "prediction_full_60 = prediction_accuracy(clf_entropy_60, Xone_hot_data, y) #passando a base completa (treino + teste) para ser testada\n",
        "print('Acurácia completo: ', prediction_full_60)"
      ],
      "execution_count": null,
      "outputs": []
    },
    {
      "cell_type": "markdown",
      "metadata": {
        "id": "7eVggDigyJgw"
      },
      "source": [
        "Dividindo em 80% treino e 20% teste:\n"
      ]
    },
    {
      "cell_type": "code",
      "metadata": {
        "id": "UHF2KOdAyO-b"
      },
      "source": [
        "X_train_80, X_test_80, y_train_80, y_test_80 = train_test_split(Xone_hot_data, y, test_size=0.20, random_state=1)\n",
        "criteria = \"entropy\"\n",
        "clf_entropy_80 = classifier(X_train_80, y_train_80, criteria)\n",
        "graph_entropy_80_20 = generate_tree(clf_entropy_80)\n",
        "\n",
        "graph_entropy_80_20.write_png('arvore-80-20.png')\n",
        "Image(graph_entropy_80_20.create_png())"
      ],
      "execution_count": null,
      "outputs": []
    },
    {
      "cell_type": "code",
      "metadata": {
        "id": "-NhWPH3kyVmh"
      },
      "source": [
        "prediction_test_entropy_80 = prediction_accuracy(clf_entropy_80, X_test_80, y_test_80)\n",
        "print('Acurácia teste: ', prediction_test_entropy_80)"
      ],
      "execution_count": null,
      "outputs": []
    },
    {
      "cell_type": "code",
      "metadata": {
        "id": "fUVhmmbXyZ7h"
      },
      "source": [
        "prediction_train_entropy_80 = prediction_accuracy(clf_entropy_80, X_train_80, y_train_80)\n",
        "print('Acurácia treino: ', prediction_train_entropy_80)"
      ],
      "execution_count": null,
      "outputs": []
    },
    {
      "cell_type": "code",
      "metadata": {
        "id": "7LBRuYQ3ybwt"
      },
      "source": [
        "prediction_full_entropy_80 = prediction_accuracy(clf_entropy_80, Xone_hot_data, y) #passando a base completa (treino + teste) para ser testada\n",
        "print('Acurácia completo: ', prediction_full_entropy_80)"
      ],
      "execution_count": null,
      "outputs": []
    },
    {
      "cell_type": "markdown",
      "metadata": {
        "id": "7kzSx6mUz_I5"
      },
      "source": [
        "Repetindo os casos testados para Gini:"
      ]
    },
    {
      "cell_type": "markdown",
      "metadata": {
        "id": "F8LjvBzs0F6U"
      },
      "source": [
        "Utilizando 100% da base para treino\n"
      ]
    },
    {
      "cell_type": "code",
      "metadata": {
        "id": "OPfK2N_D0Dvw"
      },
      "source": [
        "criteria = \"gini\"\n",
        "clf_gini_100 = classifier(Xone_hot_data, y, criteria)\n",
        "graph_gini_100 = generate_tree(clf_gini_100)\n",
        "\n",
        "graph_gini_100.write_png('arvore-100-gini.png')\n",
        "Image(graph_gini_100.create_png())"
      ],
      "execution_count": null,
      "outputs": []
    },
    {
      "cell_type": "code",
      "metadata": {
        "id": "j9-wQcWm0hBF"
      },
      "source": [
        "prediction_gini_100 = prediction_accuracy(clf_gini_100, Xone_hot_data, y) #passando a base completa (treino + teste) para ser testada\n",
        "print('Acurácia: ', prediction_gini_100)"
      ],
      "execution_count": null,
      "outputs": []
    },
    {
      "cell_type": "markdown",
      "metadata": {
        "id": "WplDUO1h0me_"
      },
      "source": [
        "Utilizando 60% da base para treino, e 40% para teste\n"
      ]
    },
    {
      "cell_type": "code",
      "metadata": {
        "id": "pJIgbi9M0qBY"
      },
      "source": [
        "criteria = \"gini\"\n",
        "clf_test_gini_60 = classifier(X_train_60, y_train_60, criteria)\n",
        "graph_gini_60_40 = generate_tree(clf_test_gini_60)\n",
        "\n",
        "graph_gini_60_40.write_png('arvore-60-40-gini.png')\n",
        "Image(graph_gini_60_40.create_png())"
      ],
      "execution_count": null,
      "outputs": []
    },
    {
      "cell_type": "code",
      "metadata": {
        "id": "IFSJKyC604sF"
      },
      "source": [
        "prediction_test_gini_60 = prediction_accuracy(clf_test_gini_60, X_test_60, y_test_60)\n",
        "print('Acurácia teste: ', prediction_test_gini_60)"
      ],
      "execution_count": null,
      "outputs": []
    },
    {
      "cell_type": "markdown",
      "metadata": {
        "id": "QAKWf-071HS5"
      },
      "source": [
        "Dividindo a base em 80% para treino, e 20% para teste"
      ]
    },
    {
      "cell_type": "code",
      "metadata": {
        "id": "FgIOE1iD1LMi"
      },
      "source": [
        "criteria = \"gini\"\n",
        "clf_gini_80 = classifier(X_train_80, y_train_80, criteria)\n",
        "graph_gini_80_20 = generate_tree(clf_gini_80)\n",
        "\n",
        "graph_gini_80_20.write_png('arvore-80-20-gini.png')\n",
        "Image(graph_gini_80_20.create_png())"
      ],
      "execution_count": null,
      "outputs": []
    },
    {
      "cell_type": "code",
      "metadata": {
        "id": "2Uq3XAHV1Smu"
      },
      "source": [
        "prediction_test_gini_80 = prediction_accuracy(clf_gini_80, X_test_80, y_test_80)\n",
        "print('Acurácia teste: ', prediction_test_gini_80)"
      ],
      "execution_count": null,
      "outputs": []
    },
    {
      "cell_type": "markdown",
      "metadata": {
        "id": "g28U3pdr6FG-"
      },
      "source": [
        "Utilizando K-fold"
      ]
    },
    {
      "cell_type": "code",
      "metadata": {
        "id": "Nm3PX7NM6OYN"
      },
      "source": [
        "cv = KFold(n_splits=8, random_state=1, shuffle=True)\n",
        "# for train, test in cv.split(Xone_hot_data):\n",
        "#   print(\"%s %s\" % (train, test))\n",
        "\n",
        "model = DecisionTreeClassifier(criterion='entropy')\n",
        "scores = cross_validate(model, Xone_hot_data, y, scoring=['accuracy'], return_train_score=True, cv=cv)\n",
        "#scores = cross_val_score(model, Xone_hot_data, y, scoring='accuracy', cv=cv)\n",
        "print('Accuracy Test: %.3f (%.3f)' % (scores['test_accuracy'].mean(), scores['test_accuracy'].std()))\n",
        "print('Accuracy Train: %.3f (%.3f)' % (scores['train_accuracy'].mean(), scores['train_accuracy'].std()))"
      ],
      "execution_count": null,
      "outputs": []
    },
    {
      "cell_type": "markdown",
      "metadata": {
        "id": "bUYfLlgqlLIp"
      },
      "source": [
        "# Árvore de Decisão - Diabetes\n"
      ]
    },
    {
      "cell_type": "code",
      "metadata": {
        "id": "k_r9i9RYleYM"
      },
      "source": [
        "# carregando a base de dados a ser usada\n",
        "exemplo_diabetes = pd.read_csv(\"/content/drive/diabetes-trabalho.csv\")"
      ],
      "execution_count": null,
      "outputs": []
    },
    {
      "cell_type": "code",
      "metadata": {
        "id": "MfNeKdS7uRlM"
      },
      "source": [
        "exemplo_diabetes.head()\n"
      ],
      "execution_count": null,
      "outputs": []
    },
    {
      "cell_type": "code",
      "metadata": {
        "id": "zSlvJTSKvNeB"
      },
      "source": [
        "# definir o conceito alvo e as features usadas\n",
        "\n",
        "feature_cols_diabetes = ['Pregnancies', 'Glucose', 'BloodPressure', 'SkinThickness', 'Insulin', 'BMI', 'DiabetesPedigreeFunction', 'Age']\n",
        "X_diabetes = exemplo_diabetes[feature_cols_diabetes] # selecionamos as colunas correspondentes aos atributos que serão usados\n",
        "y_diabetes = exemplo_diabetes.Outcome # conceito que queremos aprender. Selecionamos a coluna com a classificação das instâncias"
      ],
      "execution_count": null,
      "outputs": []
    },
    {
      "cell_type": "markdown",
      "metadata": {
        "id": "GOddmIUi--2B"
      },
      "source": [
        "Gerando a árvore de decisão\n"
      ]
    },
    {
      "cell_type": "code",
      "metadata": {
        "id": "_48L3brAySt7"
      },
      "source": [
        "criteria = \"entropy\"\n",
        "clf_diabetes = classifier(X_diabetes, y_diabetes, criteria)\n",
        "graph_diabetes = generate_tree(clf_diabetes, X_diabetes.columns)\n",
        "\n",
        "graph_diabetes.write_png('arvore-diabetes.png')\n",
        "Image(graph_diabetes.create_png())"
      ],
      "execution_count": null,
      "outputs": []
    },
    {
      "cell_type": "markdown",
      "metadata": {
        "id": "DV78JlvS_EEI"
      },
      "source": [
        "Testando a acurácia do classificador gerado"
      ]
    },
    {
      "cell_type": "code",
      "metadata": {
        "id": "BGePZR1_12wy"
      },
      "source": [
        "X_train_80_diabetes, X_test_80_diabetes, y_train_80_diabetes, y_test_80_diabetes = train_test_split(X_diabetes, y_diabetes, test_size=0.20, random_state=1)\n",
        "criteria = \"entropy\"\n",
        "clf_entropy_80_diabetes = classifier(X_train_80_diabetes, y_train_80_diabetes, criteria)\n",
        "graph_entropy_80_diabetes = generate_tree(clf_entropy_80_diabetes, X_train_80_diabetes.columns)\n",
        "\n",
        "graph_entropy_80_diabetes.write_png('arvore-80-diabetes.png')\n",
        "Image(graph_entropy_80_diabetes.create_png())"
      ],
      "execution_count": null,
      "outputs": []
    },
    {
      "cell_type": "code",
      "metadata": {
        "id": "roq5lSQq2X_h"
      },
      "source": [
        "prediction_test_diabetes = prediction_accuracy(clf_entropy_80_diabetes, X_test_80_diabetes, y_test_80_diabetes)\n",
        "print('Acurácia teste: ', prediction_test_diabetes)"
      ],
      "execution_count": null,
      "outputs": []
    },
    {
      "cell_type": "code",
      "metadata": {
        "id": "_G0DBR6k2mJ6"
      },
      "source": [
        "prediction_train_diabetes = prediction_accuracy(clf_diabetes, X_diabetes, y_diabetes)\n",
        "print('Acurácia teste: ', prediction_train_diabetes)"
      ],
      "execution_count": null,
      "outputs": []
    }
  ]
}